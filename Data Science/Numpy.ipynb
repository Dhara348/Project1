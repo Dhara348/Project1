{
 "cells": [
  {
   "cell_type": "markdown",
   "metadata": {},
   "source": [
    "# Numpy Array"
   ]
  },
  {
   "cell_type": "code",
   "execution_count": 1,
   "metadata": {},
   "outputs": [],
   "source": [
    "import numpy as np #numerical python that reduce python code"
   ]
  },
  {
   "cell_type": "code",
   "execution_count": 2,
   "metadata": {},
   "outputs": [
    {
     "data": {
      "text/plain": [
       "array([ 5,  6, 67])"
      ]
     },
     "execution_count": 2,
     "metadata": {},
     "output_type": "execute_result"
    }
   ],
   "source": [
    "np.array([5,6,67])"
   ]
  },
  {
   "cell_type": "code",
   "execution_count": 3,
   "metadata": {},
   "outputs": [
    {
     "data": {
      "text/plain": [
       "list"
      ]
     },
     "execution_count": 3,
     "metadata": {},
     "output_type": "execute_result"
    }
   ],
   "source": [
    "type([5,6,67])"
   ]
  },
  {
   "cell_type": "code",
   "execution_count": 10,
   "metadata": {},
   "outputs": [
    {
     "data": {
      "text/plain": [
       "dtype('int32')"
      ]
     },
     "execution_count": 10,
     "metadata": {},
     "output_type": "execute_result"
    }
   ],
   "source": [
    "#two dimensionals\n",
    "a=np.array([[1,2],[3,4],[4,5]])\n",
    "a.dtype\n",
    "#print(a)"
   ]
  },
  {
   "cell_type": "code",
   "execution_count": 8,
   "metadata": {},
   "outputs": [
    {
     "data": {
      "text/plain": [
       "array([[1, 2],\n",
       "       [3, 4],\n",
       "       [4, 5]])"
      ]
     },
     "execution_count": 8,
     "metadata": {},
     "output_type": "execute_result"
    }
   ],
   "source": [
    "a"
   ]
  },
  {
   "cell_type": "code",
   "execution_count": 11,
   "metadata": {},
   "outputs": [
    {
     "data": {
      "text/plain": [
       "array([1., 2., 3.])"
      ]
     },
     "execution_count": 11,
     "metadata": {},
     "output_type": "execute_result"
    }
   ],
   "source": [
    "np.array([1,2,3],dtype=float)"
   ]
  },
  {
   "cell_type": "code",
   "execution_count": 12,
   "metadata": {},
   "outputs": [
    {
     "data": {
      "text/plain": [
       "array([[1, 2, 3],\n",
       "       [3, 4, 5]])"
      ]
     },
     "execution_count": 12,
     "metadata": {},
     "output_type": "execute_result"
    }
   ],
   "source": [
    "np.array(np.mat('1 2 3;3 4 5')) #mat is used for matrix"
   ]
  },
  {
   "cell_type": "code",
   "execution_count": 13,
   "metadata": {},
   "outputs": [
    {
     "data": {
      "text/plain": [
       "array([1, 2])"
      ]
     },
     "execution_count": 13,
     "metadata": {},
     "output_type": "execute_result"
    }
   ],
   "source": [
    "#convert a list into array\n",
    "a=[1,2]\n",
    "np.array(a)"
   ]
  },
  {
   "cell_type": "code",
   "execution_count": 14,
   "metadata": {},
   "outputs": [],
   "source": [
    "b=np.asarray(a)"
   ]
  },
  {
   "cell_type": "code",
   "execution_count": 15,
   "metadata": {},
   "outputs": [
    {
     "data": {
      "text/plain": [
       "array([1, 2])"
      ]
     },
     "execution_count": 15,
     "metadata": {},
     "output_type": "execute_result"
    }
   ],
   "source": [
    "b"
   ]
  },
  {
   "cell_type": "markdown",
   "metadata": {},
   "source": [
    "# Data Types"
   ]
  },
  {
   "cell_type": "code",
   "execution_count": 18,
   "metadata": {},
   "outputs": [
    {
     "name": "stdout",
     "output_type": "stream",
     "text": [
      "type/class of this object <class 'numpy.ndarray'>\n"
     ]
    }
   ],
   "source": [
    "my_list=[1,2,3]\n",
    "arr=np.array(my_list)\n",
    "print(\"type/class of this object\",type(arr))"
   ]
  },
  {
   "cell_type": "code",
   "execution_count": 42,
   "metadata": {},
   "outputs": [
    {
     "name": "stdout",
     "output_type": "stream",
     "text": [
      "<class 'numpy.ndarray'>\n",
      "Here is matrix\n",
      "-------\n",
      " [[1 2 3]\n",
      " [4 5 6]\n",
      " [7 8 9]] \n",
      "--------\n",
      "Dimension of this matrix:2\n",
      "Size of matrix:9\n",
      "Shape of matrix: (3, 3)\n",
      "Data type of this matrix: int32\n"
     ]
    }
   ],
   "source": [
    "my_mat=[[1,2,3],[4,5,6],[7,8,9]]\n",
    "mat=np.array(my_mat)\n",
    "print(type(mat))\n",
    "print(\"Here is matrix\\n-------\\n\",mat,\"\\n--------\")\n",
    "print(\"Dimension of this matrix:\",mat.ndim,sep='')\n",
    "print(\"Size of matrix:\",mat.size,sep='')\n",
    "print(\"Shape of matrix:\",mat.shape)\n",
    "print(\"Data type of this matrix:\",mat.dtype)"
   ]
  },
  {
   "cell_type": "markdown",
   "metadata": {},
   "source": [
    "# arange and linspace"
   ]
  },
  {
   "cell_type": "code",
   "execution_count": 24,
   "metadata": {},
   "outputs": [
    {
     "ename": "TypeError",
     "evalue": "'float' object cannot be interpreted as an integer",
     "output_type": "error",
     "traceback": [
      "\u001b[1;31m---------------------------------------------------------------------------\u001b[0m",
      "\u001b[1;31mTypeError\u001b[0m                                 Traceback (most recent call last)",
      "\u001b[1;32m<ipython-input-24-30bce4f74100>\u001b[0m in \u001b[0;36m<module>\u001b[1;34m\u001b[0m\n\u001b[1;32m----> 1\u001b[1;33m \u001b[0mlist\u001b[0m\u001b[1;33m(\u001b[0m\u001b[0mrange\u001b[0m\u001b[1;33m(\u001b[0m\u001b[1;36m2\u001b[0m\u001b[1;33m,\u001b[0m\u001b[1;36m10.5\u001b[0m\u001b[1;33m,\u001b[0m\u001b[1;36m.4\u001b[0m\u001b[1;33m)\u001b[0m\u001b[1;33m)\u001b[0m\u001b[1;33m\u001b[0m\u001b[1;33m\u001b[0m\u001b[0m\n\u001b[0m",
      "\u001b[1;31mTypeError\u001b[0m: 'float' object cannot be interpreted as an integer"
     ]
    }
   ],
   "source": [
    "list(range(2,10.5,.4)) # not possible using range function because of float value"
   ]
  },
  {
   "cell_type": "code",
   "execution_count": 26,
   "metadata": {},
   "outputs": [
    {
     "data": {
      "text/plain": [
       "array([ 2. ,  2.4,  2.8,  3.2,  3.6,  4. ,  4.4,  4.8,  5.2,  5.6,  6. ,\n",
       "        6.4,  6.8,  7.2,  7.6,  8. ,  8.4,  8.8,  9.2,  9.6, 10. , 10.4])"
      ]
     },
     "execution_count": 26,
     "metadata": {},
     "output_type": "execute_result"
    }
   ],
   "source": [
    "a=np.arange(2,10.5,.4)\n",
    "a"
   ]
  },
  {
   "cell_type": "code",
   "execution_count": 27,
   "metadata": {},
   "outputs": [
    {
     "data": {
      "text/plain": [
       "array([10.4, 10. ,  9.6,  9.2,  8.8,  8.4,  8. ,  7.6,  7.2,  6.8,  6.4,\n",
       "        6. ,  5.6,  5.2,  4.8,  4.4,  4. ,  3.6,  3.2,  2.8,  2.4,  2. ])"
      ]
     },
     "execution_count": 27,
     "metadata": {},
     "output_type": "execute_result"
    }
   ],
   "source": [
    "#reverse order\n",
    "a[::-1]"
   ]
  },
  {
   "cell_type": "code",
   "execution_count": 28,
   "metadata": {},
   "outputs": [
    {
     "name": "stdout",
     "output_type": "stream",
     "text": [
      "Every 5th number from 50 in reverse order\n",
      " [50 45 40 35 30 25 20 15 10  5]\n"
     ]
    }
   ],
   "source": [
    "print(\"Every 5th number from 50 in reverse order\\n\",np.arange(50,0,-5))"
   ]
  },
  {
   "cell_type": "code",
   "execution_count": 31,
   "metadata": {},
   "outputs": [
    {
     "name": "stdout",
     "output_type": "stream",
     "text": [
      "linearly spaced numbers between 1 and 5\n",
      "---------\n",
      "[10.  17.5 25.  32.5 40. ]\n"
     ]
    }
   ],
   "source": [
    "print(\"linearly spaced numbers between 1 and 5\\n---------\")\n",
    "print(np.linspace(10,40,5))"
   ]
  },
  {
   "cell_type": "markdown",
   "metadata": {},
   "source": [
    "# Matrix Creation"
   ]
  },
  {
   "cell_type": "code",
   "execution_count": 32,
   "metadata": {},
   "outputs": [
    {
     "name": "stdout",
     "output_type": "stream",
     "text": [
      "vector of zeros\n",
      "------------------\n",
      "[0. 0. 0. 0. 0.]\n"
     ]
    }
   ],
   "source": [
    "print(\"vector of zeros\\n------------------\")\n",
    "print(np.zeros(5))\n"
   ]
  },
  {
   "cell_type": "code",
   "execution_count": 33,
   "metadata": {},
   "outputs": [
    {
     "name": "stdout",
     "output_type": "stream",
     "text": [
      "Matrix of zeros\n",
      "--------------------\n",
      "[[0. 0. 0. 0. 0. 0.]\n",
      " [0. 0. 0. 0. 0. 0.]\n",
      " [0. 0. 0. 0. 0. 0.]\n",
      " [0. 0. 0. 0. 0. 0.]\n",
      " [0. 0. 0. 0. 0. 0.]]\n"
     ]
    }
   ],
   "source": [
    "print(\"Matrix of zeros\\n--------------------\")\n",
    "print(np.zeros((5,6)))"
   ]
  },
  {
   "cell_type": "code",
   "execution_count": 34,
   "metadata": {},
   "outputs": [
    {
     "name": "stdout",
     "output_type": "stream",
     "text": [
      "Vectors of ones\n",
      "-----------------\n",
      "[1. 1. 1. 1. 1. 1. 1. 1. 1. 1.]\n"
     ]
    }
   ],
   "source": [
    "print(\"Vectors of ones\\n-----------------\")\n",
    "print(np.ones(10))"
   ]
  },
  {
   "cell_type": "code",
   "execution_count": 35,
   "metadata": {},
   "outputs": [
    {
     "name": "stdout",
     "output_type": "stream",
     "text": [
      "Matrix of ones\n",
      "--------------------\n",
      "[[1. 1. 1. 1. 1. 1.]\n",
      " [1. 1. 1. 1. 1. 1.]\n",
      " [1. 1. 1. 1. 1. 1.]\n",
      " [1. 1. 1. 1. 1. 1.]\n",
      " [1. 1. 1. 1. 1. 1.]]\n"
     ]
    }
   ],
   "source": [
    "print(\"Matrix of ones\\n--------------------\")\n",
    "print(np.ones((5,6)))"
   ]
  },
  {
   "cell_type": "code",
   "execution_count": 38,
   "metadata": {},
   "outputs": [
    {
     "name": "stdout",
     "output_type": "stream",
     "text": [
      "Matrix of ones\n",
      "--------------------\n",
      "[[5. 5. 5. 5. 5. 5.]\n",
      " [5. 5. 5. 5. 5. 5.]\n",
      " [5. 5. 5. 5. 5. 5.]\n",
      " [5. 5. 5. 5. 5. 5.]\n",
      " [5. 5. 5. 5. 5. 5.]]\n"
     ]
    }
   ],
   "source": [
    "print(\"Matrix of ones\\n--------------------\")\n",
    "print(5*np.ones((5,6)))"
   ]
  },
  {
   "cell_type": "code",
   "execution_count": 39,
   "metadata": {},
   "outputs": [
    {
     "name": "stdout",
     "output_type": "stream",
     "text": [
      "Identity matrix of dimension  (5, 5)\n",
      "[[1. 0. 0. 0. 0.]\n",
      " [0. 1. 0. 0. 0.]\n",
      " [0. 0. 1. 0. 0.]\n",
      " [0. 0. 0. 1. 0.]\n",
      " [0. 0. 0. 0. 1.]]\n"
     ]
    }
   ],
   "source": [
    "mat1=np.eye(5)\n",
    "print(\"Identity matrix of dimension \",mat1.shape)\n",
    "print(mat1)"
   ]
  },
  {
   "cell_type": "code",
   "execution_count": 40,
   "metadata": {},
   "outputs": [
    {
     "data": {
      "text/plain": [
       "array([2.        , 2.33333333, 2.66666667, 3.        ])"
      ]
     },
     "execution_count": 40,
     "metadata": {},
     "output_type": "execute_result"
    }
   ],
   "source": [
    "np.linspace(2.0,3.0,num=4,endpoint=True)"
   ]
  },
  {
   "cell_type": "code",
   "execution_count": 41,
   "metadata": {},
   "outputs": [
    {
     "data": {
      "text/plain": [
       "(array([ 2.23456   ,  2.57306852,  2.91157704,  3.25008556,  3.58859408,\n",
       "         3.9271026 ,  4.26561112,  4.60411965,  4.94262817,  5.28113669,\n",
       "         5.61964521,  5.95815373,  6.29666225,  6.63517077,  6.97367929,\n",
       "         7.31218781,  7.65069633,  7.98920485,  8.32771338,  8.6662219 ,\n",
       "         9.00473042,  9.34323894,  9.68174746, 10.02025598, 10.3587645 ]),\n",
       " 0.3385085208333333)"
      ]
     },
     "execution_count": 41,
     "metadata": {},
     "output_type": "execute_result"
    }
   ],
   "source": [
    "np.linspace(2.23456,10.3587645,num=25,retstep=True) #retantion step"
   ]
  },
  {
   "cell_type": "code",
   "execution_count": 42,
   "metadata": {},
   "outputs": [],
   "source": [
    "x=np.arange(30).reshape(10,3) #construct diagonal matrix"
   ]
  },
  {
   "cell_type": "code",
   "execution_count": 43,
   "metadata": {},
   "outputs": [
    {
     "data": {
      "text/plain": [
       "array([[ 0,  1,  2],\n",
       "       [ 3,  4,  5],\n",
       "       [ 6,  7,  8],\n",
       "       [ 9, 10, 11],\n",
       "       [12, 13, 14],\n",
       "       [15, 16, 17],\n",
       "       [18, 19, 20],\n",
       "       [21, 22, 23],\n",
       "       [24, 25, 26],\n",
       "       [27, 28, 29]])"
      ]
     },
     "execution_count": 43,
     "metadata": {},
     "output_type": "execute_result"
    }
   ],
   "source": [
    "x #10 rows and 3 columns using reshape"
   ]
  },
  {
   "cell_type": "markdown",
   "metadata": {},
   "source": [
    "# Random number generation"
   ]
  },
  {
   "cell_type": "code",
   "execution_count": 2,
   "metadata": {},
   "outputs": [
    {
     "name": "stdout",
     "output_type": "stream",
     "text": [
      "Random munber generation(from uniform distribution)\n",
      "[[0.99979827 0.36484968 0.4898532  0.35740537 0.23435774 0.19525796]\n",
      " [0.33270516 0.30119864 0.44505092 0.69122123 0.42982536 0.17429992]\n",
      " [0.22309922 0.52618581 0.58579503 0.59684081 0.67997559 0.79289914]\n",
      " [0.9525546  0.51634308 0.07053396 0.02374321 0.10910679 0.33827109]\n",
      " [0.18930325 0.88243682 0.91844707 0.91569152 0.27632581 0.36049644]]\n"
     ]
    }
   ],
   "source": [
    "import numpy as np\n",
    "print(\"Random munber generation(from uniform distribution)\")\n",
    "print(np.random.rand(5,6))"
   ]
  },
  {
   "cell_type": "code",
   "execution_count": 3,
   "metadata": {},
   "outputs": [
    {
     "name": "stdout",
     "output_type": "stream",
     "text": [
      "Numbers from normal distribution with zero mean and standard deviation1 i.e standard normal\n",
      "[[-0.1213217   1.47008035 -2.38061165]\n",
      " [-0.91890726 -0.9668071  -0.3637385 ]\n",
      " [ 0.97347877 -0.44618302  1.68384767]\n",
      " [ 1.11360215 -0.94797645 -1.2594318 ]\n",
      " [-0.58109307 -0.74711447 -0.16996944]\n",
      " [-0.50488219  1.75807243  2.94145543]\n",
      " [-0.93433193  1.1749689   1.38835237]\n",
      " [-1.70502767  0.70709661  0.5002672 ]\n",
      " [-0.82177982  0.87898297  0.95288175]\n",
      " [ 2.68297395  0.7404167   0.52509701]]\n"
     ]
    }
   ],
   "source": [
    "print(\"Numbers from normal distribution with zero mean and standard deviation1 i.e standard normal\")\n",
    "print(np.random.randn(10,3))"
   ]
  },
  {
   "cell_type": "code",
   "execution_count": 4,
   "metadata": {},
   "outputs": [
    {
     "name": "stdout",
     "output_type": "stream",
     "text": [
      "Random integer vector:\n",
      "[77 64 47 38 94 64 94 43 92 49 84 37 46 67 11 69 15 28 19 62 38 10 97 16\n",
      " 18 82 95 91 66 62 12 71 99 95 20 78 79 58 54 37 79 81 70 54 26 67 91 47\n",
      " 24 61 75 54 97 12 39 50 24 22 56 22 49 17 14 20 64 76 88 93 81 19 36 22\n",
      " 83 35 17 58 73 66 36 36 22 34 47 43 47 82 18 60 53 42 57 14 39 26 23 47\n",
      " 16 60 74 76]\n"
     ]
    }
   ],
   "source": [
    "print(\"Random integer vector:\")\n",
    "print(np.random.randint(10,100,100))"
   ]
  },
  {
   "cell_type": "code",
   "execution_count": 5,
   "metadata": {},
   "outputs": [
    {
     "name": "stdout",
     "output_type": "stream",
     "text": [
      "\n",
      "random integer matrix\n",
      "[[ 9  6 21 15 19 20 17]\n",
      " [21 25 14 17 16 24  2]\n",
      " [22 29  4 13 29  9 16]\n",
      " [24 25 12  5  1  1 25]\n",
      " [ 1 19  7 14 16  2 29]\n",
      " [18  4 29 29  6  8 27]]\n"
     ]
    }
   ],
   "source": [
    "print(\"\\nrandom integer matrix\")\n",
    "print(np.random.randint(1,30,(6,7)))"
   ]
  },
  {
   "cell_type": "code",
   "execution_count": 6,
   "metadata": {},
   "outputs": [
    {
     "name": "stdout",
     "output_type": "stream",
     "text": [
      "\n",
      "20 samples drawn from a dice throw: [6 3 5 2 2 1 2 6 6 2 5 5 6 1 4 6 4 3 3 3]\n"
     ]
    }
   ],
   "source": [
    "print(\"\\n20 samples drawn from a dice throw:\",np.random.randint(1,7,20))"
   ]
  },
  {
   "cell_type": "markdown",
   "metadata": {},
   "source": [
    "# Reshaping"
   ]
  },
  {
   "cell_type": "code",
   "execution_count": 7,
   "metadata": {},
   "outputs": [],
   "source": [
    "import numpy as np\n",
    "from numpy.random import randint as ri\n",
    "a=ri(1,99,30)"
   ]
  },
  {
   "cell_type": "code",
   "execution_count": 8,
   "metadata": {},
   "outputs": [
    {
     "data": {
      "text/plain": [
       "array([60, 91, 62, 56, 89, 75, 49, 13, 88, 90, 45,  8, 85, 66, 72, 26, 48,\n",
       "       60, 73, 71, 38, 25, 41, 60, 18, 95,  2, 42, 64, 93])"
      ]
     },
     "execution_count": 8,
     "metadata": {},
     "output_type": "execute_result"
    }
   ],
   "source": [
    "a   #after store this random number in variable it will not change after many execution"
   ]
  },
  {
   "cell_type": "code",
   "execution_count": 11,
   "metadata": {},
   "outputs": [
    {
     "data": {
      "text/plain": [
       "array([[[60, 91, 62, 56, 89],\n",
       "        [75, 49, 13, 88, 90],\n",
       "        [45,  8, 85, 66, 72]],\n",
       "\n",
       "       [[26, 48, 60, 73, 71],\n",
       "        [38, 25, 41, 60, 18],\n",
       "        [95,  2, 42, 64, 93]]])"
      ]
     },
     "execution_count": 11,
     "metadata": {},
     "output_type": "execute_result"
    }
   ],
   "source": [
    "b=a.reshape(2,3,5)  \n",
    "b"
   ]
  },
  {
   "cell_type": "code",
   "execution_count": 12,
   "metadata": {},
   "outputs": [
    {
     "data": {
      "text/plain": [
       "array([[60, 91, 62, 56, 89],\n",
       "       [75, 49, 13, 88, 90],\n",
       "       [45,  8, 85, 66, 72],\n",
       "       [26, 48, 60, 73, 71],\n",
       "       [38, 25, 41, 60, 18],\n",
       "       [95,  2, 42, 64, 93]])"
      ]
     },
     "execution_count": 12,
     "metadata": {},
     "output_type": "execute_result"
    }
   ],
   "source": [
    "c=a.reshape(6,5)\n",
    "c"
   ]
  },
  {
   "cell_type": "code",
   "execution_count": 13,
   "metadata": {},
   "outputs": [
    {
     "name": "stdout",
     "output_type": "stream",
     "text": [
      "Shape of a: (30,)\n",
      "Shape of b: (2, 3, 5)\n",
      "Shape of c: (6, 5)\n"
     ]
    }
   ],
   "source": [
    "print(\"Shape of a:\",a.shape)\n",
    "print(\"Shape of b:\",b.shape)\n",
    "print(\"Shape of c:\",c.shape)"
   ]
  },
  {
   "cell_type": "code",
   "execution_count": 15,
   "metadata": {},
   "outputs": [
    {
     "name": "stdout",
     "output_type": "stream",
     "text": [
      "\n",
      "a looks like\n",
      " -------------------- \n",
      " [60 91 62 56 89 75 49 13 88 90 45  8 85 66 72 26 48 60 73 71 38 25 41 60\n",
      " 18 95  2 42 64 93] \n",
      " --------------------\n",
      "\n",
      "b looks like\n",
      " -------------------- \n",
      " [[[60 91 62 56 89]\n",
      "  [75 49 13 88 90]\n",
      "  [45  8 85 66 72]]\n",
      "\n",
      " [[26 48 60 73 71]\n",
      "  [38 25 41 60 18]\n",
      "  [95  2 42 64 93]]] \n",
      " --------------------\n",
      "\n",
      "c looks like\n",
      " -------------------- \n",
      " [[60 91 62 56 89]\n",
      " [75 49 13 88 90]\n",
      " [45  8 85 66 72]\n",
      " [26 48 60 73 71]\n",
      " [38 25 41 60 18]\n",
      " [95  2 42 64 93]] \n",
      " --------------------\n"
     ]
    }
   ],
   "source": [
    "print(\"\\na looks like\\n\",\"-\"*20,\"\\n\",a,\"\\n\",\"-\"*20)\n",
    "print(\"\\nb looks like\\n\",\"-\"*20,\"\\n\",b,\"\\n\",\"-\"*20)\n",
    "print(\"\\nc looks like\\n\",\"-\"*20,\"\\n\",c,\"\\n\",\"-\"*20)"
   ]
  },
  {
   "cell_type": "code",
   "execution_count": 17,
   "metadata": {},
   "outputs": [
    {
     "name": "stdout",
     "output_type": "stream",
     "text": [
      "\n",
      "vector of random integer\n",
      " -------------------------------------------------- \n",
      " [59 33  7 77 81  9 62 78 60 98]\n",
      "\n",
      "Here is the sorted vector\n",
      " -------------------------------------------------- \n",
      " [ 7  9 33 59 60 62 77 78 81 98]\n"
     ]
    }
   ],
   "source": [
    "A=ri(1,100,10)\n",
    "print(\"\\nvector of random integer\\n\",\"-\"*50,\"\\n\",A)\n",
    "print(\"\\nHere is the sorted vector\\n\",\"-\"*50,\"\\n\",np.sort(A,kind=\"quicksort\"))#shift+4timesTAB for more information of quicksort"
   ]
  },
  {
   "cell_type": "code",
   "execution_count": 21,
   "metadata": {},
   "outputs": [
    {
     "name": "stdout",
     "output_type": "stream",
     "text": [
      "\n",
      "Here is the matrix\n",
      " -------------------------------------------------- \n",
      " [[36 64 71 32 96]\n",
      " [57  1 68 37 50]\n",
      " [73 31 47 26 50]\n",
      " [87 53 83 66 18]\n",
      " [93 51 17 99 15]]\n",
      "\n",
      "Here is the sorted matrix along each row\n",
      " -------------------------------------------------- \n",
      " [[32 36 64 71 96]\n",
      " [ 1 37 50 57 68]\n",
      " [26 31 47 50 73]\n",
      " [18 53 66 83 87]\n",
      " [15 17 51 93 99]]\n",
      "\n",
      "Here is the sorted matrix along each column\n",
      " -------------------------------------------------- \n",
      " [[36  1 17 26 15]\n",
      " [57 31 47 32 18]\n",
      " [73 51 68 37 50]\n",
      " [87 53 71 66 50]\n",
      " [93 64 83 99 96]]\n"
     ]
    }
   ],
   "source": [
    "M=ri(1,100,25).reshape(5,5)\n",
    "print(\"\\n5x5 matrix of random integer\\n\",\"-\"*50,\"\\n\",M)\n",
    "print(\"\\nHere is the sorted matrix along each row\\n\",\"-\"*50,\"\\n\",np.sort(M))\n",
    "print(\"\\nHere is the sorted matrix along each column\\n\",\"-\"*50,\"\\n\",np.sort(M,axis=0,kind=\"mergesort\"))"
   ]
  },
  {
   "cell_type": "code",
   "execution_count": 22,
   "metadata": {},
   "outputs": [
    {
     "data": {
      "text/plain": [
       "array([60, 91, 62, 56, 89, 75, 49, 13, 88, 90, 45,  8, 85, 66, 72, 26, 48,\n",
       "       60, 73, 71, 38, 25, 41, 60, 18, 95,  2, 42, 64, 93])"
      ]
     },
     "execution_count": 22,
     "metadata": {},
     "output_type": "execute_result"
    }
   ],
   "source": [
    "a"
   ]
  },
  {
   "cell_type": "code",
   "execution_count": 23,
   "metadata": {},
   "outputs": [
    {
     "data": {
      "text/plain": [
       "array([[[60, 91, 62, 56, 89],\n",
       "        [75, 49, 13, 88, 90],\n",
       "        [45,  8, 85, 66, 72]],\n",
       "\n",
       "       [[26, 48, 60, 73, 71],\n",
       "        [38, 25, 41, 60, 18],\n",
       "        [95,  2, 42, 64, 93]]])"
      ]
     },
     "execution_count": 23,
     "metadata": {},
     "output_type": "execute_result"
    }
   ],
   "source": [
    "b"
   ]
  },
  {
   "cell_type": "code",
   "execution_count": 25,
   "metadata": {},
   "outputs": [
    {
     "name": "stdout",
     "output_type": "stream",
     "text": [
      "Min of a 2\n"
     ]
    }
   ],
   "source": [
    "print(\"Min of a\",a.min())"
   ]
  },
  {
   "cell_type": "code",
   "execution_count": 26,
   "metadata": {},
   "outputs": [
    {
     "name": "stdout",
     "output_type": "stream",
     "text": [
      "Max of b: 95\n"
     ]
    }
   ],
   "source": [
    "print(\"Max of b:\",b.max())"
   ]
  },
  {
   "cell_type": "markdown",
   "metadata": {},
   "source": [
    "# Indexing and slicing"
   ]
  },
  {
   "cell_type": "code",
   "execution_count": 29,
   "metadata": {},
   "outputs": [
    {
     "name": "stdout",
     "output_type": "stream",
     "text": [
      "Array: [13 14 15 16 17 18 19 20 21 22 23 24 25 26 27 28 29]\n"
     ]
    }
   ],
   "source": [
    "arr=np.arange(13,30)\n",
    "print(\"Array:\",arr)"
   ]
  },
  {
   "cell_type": "code",
   "execution_count": 30,
   "metadata": {},
   "outputs": [
    {
     "name": "stdout",
     "output_type": "stream",
     "text": [
      "Element at 7th index is: 20\n"
     ]
    }
   ],
   "source": [
    "print(\"Element at 7th index is:\",arr[7])"
   ]
  },
  {
   "cell_type": "code",
   "execution_count": 31,
   "metadata": {},
   "outputs": [
    {
     "name": "stdout",
     "output_type": "stream",
     "text": [
      "3rd to 5th: [16 17 18]\n"
     ]
    }
   ],
   "source": [
    "print(\"3rd to 5th:\",arr[3:6])"
   ]
  },
  {
   "cell_type": "code",
   "execution_count": 33,
   "metadata": {},
   "outputs": [
    {
     "name": "stdout",
     "output_type": "stream",
     "text": [
      "elements up to 4th index are: [17 18 19 20 21 22 23 24 25 26 27 28 29]\n"
     ]
    },
    {
     "data": {
      "text/plain": [
       "array([17, 18, 19, 20, 21, 22, 23, 24, 25, 26, 27, 28, 29])"
      ]
     },
     "execution_count": 33,
     "metadata": {},
     "output_type": "execute_result"
    }
   ],
   "source": [
    "print(\"elements up to 4th index are:\",arr[4:])\n",
    "abc=arr[4:]\n",
    "abc"
   ]
  },
  {
   "cell_type": "code",
   "execution_count": 34,
   "metadata": {},
   "outputs": [
    {
     "name": "stdout",
     "output_type": "stream",
     "text": [
      "elements from last backwards are: [29 27 25 23 21 19 17 15 13]\n"
     ]
    }
   ],
   "source": [
    "print(\"elements from last backwards are with step -2:\",arr[-1::-2])"
   ]
  },
  {
   "cell_type": "code",
   "execution_count": 36,
   "metadata": {},
   "outputs": [
    {
     "name": "stdout",
     "output_type": "stream",
     "text": [
      " 7 elements from last backwords are: [29 28 27 26 25 24 23]\n"
     ]
    }
   ],
   "source": [
    "print(\" 7 elements from last backwords are:\",arr[-1:-8:-1])"
   ]
  },
  {
   "cell_type": "code",
   "execution_count": 37,
   "metadata": {},
   "outputs": [
    {
     "name": "stdout",
     "output_type": "stream",
     "text": [
      "New array: [ 0  2  4  6  8 10 12 14 16 18 20]\n"
     ]
    }
   ],
   "source": [
    "arr=np.arange(0,21,2)\n",
    "print(\"New array:\",arr)"
   ]
  },
  {
   "cell_type": "code",
   "execution_count": 40,
   "metadata": {},
   "outputs": [
    {
     "name": "stdout",
     "output_type": "stream",
     "text": [
      "Elements at 2nd,4th,9th index are: [ 4  8 18]\n"
     ]
    }
   ],
   "source": [
    "print(\"Elements at 2nd,4th,9th index are:\",arr[[2,4,9]])"
   ]
  },
  {
   "cell_type": "code",
   "execution_count": 43,
   "metadata": {},
   "outputs": [
    {
     "data": {
      "text/plain": [
       "array([[1, 2, 3],\n",
       "       [4, 5, 6],\n",
       "       [7, 8, 9]])"
      ]
     },
     "execution_count": 43,
     "metadata": {},
     "output_type": "execute_result"
    }
   ],
   "source": [
    "mat"
   ]
  },
  {
   "cell_type": "code",
   "execution_count": 44,
   "metadata": {},
   "outputs": [
    {
     "name": "stdout",
     "output_type": "stream",
     "text": [
      "Element in row index 1 and column index 2: 6\n"
     ]
    }
   ],
   "source": [
    "print(\"Element in row index 1 and column index 2:\",mat[1][2])"
   ]
  },
  {
   "cell_type": "code",
   "execution_count": 47,
   "metadata": {},
   "outputs": [
    {
     "name": "stdout",
     "output_type": "stream",
     "text": [
      "Entire row at index 2: [7 8 9]\n",
      "Entire column at index 3:\n",
      " [[2 3]\n",
      " [5 6]\n",
      " [8 9]]\n"
     ]
    }
   ],
   "source": [
    "print(\"Entire row at index 2:\",mat[2])\n",
    "print(\"Entire column at index 3:\\n\",mat[:,1:])"
   ]
  },
  {
   "cell_type": "code",
   "execution_count": 46,
   "metadata": {},
   "outputs": [
    {
     "name": "stdout",
     "output_type": "stream",
     "text": [
      "Matrix with row indices 1 and 2 column indices 3 and 4\n",
      " [[5]]\n"
     ]
    }
   ],
   "source": [
    "print(\"Matrix with row indices 1 and 2 column indices 3 and 4\\n\",mat[1:2,1:2])"
   ]
  },
  {
   "cell_type": "code",
   "execution_count": 49,
   "metadata": {},
   "outputs": [
    {
     "name": "stdout",
     "output_type": "stream",
     "text": [
      " [[2 3]\n",
      " [5 6]]\n"
     ]
    }
   ],
   "source": [
    "print(\"\",mat[0:2,[1,2]])"
   ]
  },
  {
   "cell_type": "code",
   "execution_count": 50,
   "metadata": {},
   "outputs": [
    {
     "data": {
      "text/plain": [
       "array([[1, 2, 3],\n",
       "       [4, 5, 6],\n",
       "       [7, 8, 9]])"
      ]
     },
     "execution_count": 50,
     "metadata": {},
     "output_type": "execute_result"
    }
   ],
   "source": [
    "mat"
   ]
  },
  {
   "cell_type": "markdown",
   "metadata": {},
   "source": [
    "# Subseting"
   ]
  },
  {
   "cell_type": "code",
   "execution_count": 52,
   "metadata": {},
   "outputs": [
    {
     "name": "stdout",
     "output_type": "stream",
     "text": [
      "[[61 50 27 92 85]\n",
      " [60 20 99 92 84]\n",
      " [40 41 43 93 26]]\n"
     ]
    }
   ],
   "source": [
    "mat=np.array(ri(10,100,15)).reshape(3,5)\n",
    "print(mat)"
   ]
  },
  {
   "cell_type": "code",
   "execution_count": 53,
   "metadata": {},
   "outputs": [
    {
     "name": "stdout",
     "output_type": "stream",
     "text": [
      "Elements greater than 50\n",
      " [61 92 85 60 99 92 84 93]\n"
     ]
    }
   ],
   "source": [
    "print(\"Elements greater than 50\\n\",mat[mat>50])"
   ]
  },
  {
   "cell_type": "code",
   "execution_count": 54,
   "metadata": {},
   "outputs": [
    {
     "data": {
      "text/plain": [
       "array([[ True, False, False,  True,  True],\n",
       "       [ True, False,  True,  True,  True],\n",
       "       [False, False, False,  True, False]])"
      ]
     },
     "execution_count": 54,
     "metadata": {},
     "output_type": "execute_result"
    }
   ],
   "source": [
    "mat>50"
   ]
  },
  {
   "cell_type": "markdown",
   "metadata": {},
   "source": [
    "# slicing"
   ]
  },
  {
   "cell_type": "code",
   "execution_count": 55,
   "metadata": {},
   "outputs": [
    {
     "name": "stdout",
     "output_type": "stream",
     "text": [
      "[[11 12 13]\n",
      " [21 22 23]\n",
      " [31 32 33]]\n"
     ]
    }
   ],
   "source": [
    "mat=np.array([[11,12,13],[21,22,23],[31,32,33]])\n",
    "print(mat)"
   ]
  },
  {
   "cell_type": "code",
   "execution_count": 57,
   "metadata": {},
   "outputs": [
    {
     "name": "stdout",
     "output_type": "stream",
     "text": [
      "\n",
      "Sliced matrix\n",
      "[[11 12]\n",
      " [21 22]]\n",
      "\n",
      "Change the sliced matrix\n"
     ]
    }
   ],
   "source": [
    "mat_slice=mat[:2,:2]\n",
    "print(\"\\nSliced matrix\")\n",
    "print(mat_slice)\n",
    "print(\"\\nChange the sliced matrix\")"
   ]
  },
  {
   "cell_type": "code",
   "execution_count": 58,
   "metadata": {},
   "outputs": [
    {
     "name": "stdout",
     "output_type": "stream",
     "text": [
      "[[1000   12]\n",
      " [  21   22]]\n"
     ]
    }
   ],
   "source": [
    "mat_slice[0,0]=1000\n",
    "print(mat_slice)"
   ]
  },
  {
   "cell_type": "code",
   "execution_count": 59,
   "metadata": {},
   "outputs": [
    {
     "name": "stdout",
     "output_type": "stream",
     "text": [
      "\n",
      "But the original matrix?It got changed too\n",
      "[[1000   12   13]\n",
      " [  21   22   23]\n",
      " [  31   32   33]]\n"
     ]
    }
   ],
   "source": [
    "print(\"\\nBut the original matrix?It got changed too\")\n",
    "print(mat)"
   ]
  },
  {
   "cell_type": "markdown",
   "metadata": {},
   "source": [
    "# Universal Functions"
   ]
  },
  {
   "cell_type": "code",
   "execution_count": 60,
   "metadata": {},
   "outputs": [
    {
     "name": "stdout",
     "output_type": "stream",
     "text": [
      "Mat1\n",
      " [[4 1 3]\n",
      " [4 6 7]\n",
      " [8 3 4]]\n",
      "Mat2\n",
      " [[3 5 4]\n",
      " [8 5 4]\n",
      " [1 1 6]]\n"
     ]
    }
   ],
   "source": [
    "mat1=np.array(ri(1,10,9).reshape(3,3))\n",
    "mat2=np.array(ri(1,10,9).reshape(3,3))\n",
    "print(\"Mat1\\n\",mat1)\n",
    "print(\"Mat2\\n\",mat2)"
   ]
  },
  {
   "cell_type": "code",
   "execution_count": 61,
   "metadata": {
    "scrolled": true
   },
   "outputs": [
    {
     "name": "stdout",
     "output_type": "stream",
     "text": [
      "\n",
      "Addition\n",
      "-------------------\n",
      " [[ 7  6  7]\n",
      " [12 11 11]\n",
      " [ 9  4 10]]\n",
      "\n",
      "Multiplication\n",
      "-------------------\n",
      " [[12  5 12]\n",
      " [32 30 28]\n",
      " [ 8  3 24]]\n"
     ]
    }
   ],
   "source": [
    "print(\"\\nAddition\\n-------------------\\n\",mat1+mat2)\n",
    "print(\"\\nMultiplication\\n-------------------\\n\",mat1*mat2)"
   ]
  },
  {
   "cell_type": "code",
   "execution_count": 63,
   "metadata": {},
   "outputs": [
    {
     "name": "stdout",
     "output_type": "stream",
     "text": [
      "\n",
      "Division\n",
      "-------------------\n",
      " [[1.33333333 0.2        0.75      ]\n",
      " [0.5        1.2        1.75      ]\n",
      " [8.         3.         0.66666667]]\n",
      "\n",
      "Linear combination\n",
      "------------\n",
      " [[ 6 -7  1]\n",
      " [-4  8 13]\n",
      " [22  7  0]]\n"
     ]
    }
   ],
   "source": [
    "print(\"\\nDivision\\n-------------------\\n\",mat1/mat2)\n",
    "print(\"\\nLinear combination\\n------------\\n\",3*mat1-2*mat2)"
   ]
  },
  {
   "cell_type": "code",
   "execution_count": 64,
   "metadata": {},
   "outputs": [
    {
     "data": {
      "text/plain": [
       "array([[4, 1, 3],\n",
       "       [4, 6, 7],\n",
       "       [8, 3, 4]])"
      ]
     },
     "execution_count": 64,
     "metadata": {},
     "output_type": "execute_result"
    }
   ],
   "source": [
    "mat1"
   ]
  },
  {
   "cell_type": "code",
   "execution_count": 66,
   "metadata": {},
   "outputs": [
    {
     "name": "stdout",
     "output_type": "stream",
     "text": [
      "\n",
      "Addition with 100 \n",
      "-----------\n",
      " [[104 101 103]\n",
      " [104 106 107]\n",
      " [108 103 104]]\n"
     ]
    }
   ],
   "source": [
    "print(\"\\nAddition with 100 \\n-----------\\n\",100+mat1)\n",
    "new_mat=100+mat1"
   ]
  },
  {
   "cell_type": "code",
   "execution_count": 67,
   "metadata": {},
   "outputs": [
    {
     "data": {
      "text/plain": [
       "array([[104, 101, 103],\n",
       "       [104, 106, 107],\n",
       "       [108, 103, 104]])"
      ]
     },
     "execution_count": 67,
     "metadata": {},
     "output_type": "execute_result"
    }
   ],
   "source": [
    "new_mat"
   ]
  },
  {
   "cell_type": "code",
   "execution_count": 69,
   "metadata": {},
   "outputs": [
    {
     "name": "stdout",
     "output_type": "stream",
     "text": [
      "\n",
      "Matrix cubed here\n",
      "-------------\n",
      " [[ 64   1  27]\n",
      " [ 64 216 343]\n",
      " [512  27  64]]\n",
      "\n",
      "Matrix square root here\n",
      "-------------\n",
      " [[2.         1.         1.73205081]\n",
      " [2.         2.44948974 2.64575131]\n",
      " [2.82842712 1.73205081 2.        ]]\n"
     ]
    }
   ],
   "source": [
    "print(\"\\nMatrix cubed here\\n-------------\\n\",mat1**3)\n",
    "print(\"\\nMatrix square root here\\n-------------\\n\",mat1**0.5)"
   ]
  },
  {
   "cell_type": "markdown",
   "metadata": {},
   "source": [
    "# Broadcasting"
   ]
  },
  {
   "cell_type": "code",
   "execution_count": 74,
   "metadata": {},
   "outputs": [
    {
     "name": "stdout",
     "output_type": "stream",
     "text": [
      "[[0. 0. 0.]\n",
      " [0. 0. 0.]\n",
      " [0. 0. 0.]]\n"
     ]
    }
   ],
   "source": [
    "start=np.zeros((3,3))\n",
    "print(start)"
   ]
  },
  {
   "cell_type": "code",
   "execution_count": 75,
   "metadata": {},
   "outputs": [
    {
     "name": "stdout",
     "output_type": "stream",
     "text": [
      "[1 0 2]\n"
     ]
    }
   ],
   "source": [
    "add_rows=np.array([1,0,2])\n",
    "print(add_rows)"
   ]
  },
  {
   "cell_type": "code",
   "execution_count": 76,
   "metadata": {},
   "outputs": [
    {
     "name": "stdout",
     "output_type": "stream",
     "text": [
      "[[1. 0. 2.]\n",
      " [1. 0. 2.]\n",
      " [1. 0. 2.]]\n"
     ]
    }
   ],
   "source": [
    "y=start+add_rows\n",
    "print(y)"
   ]
  },
  {
   "cell_type": "code",
   "execution_count": 81,
   "metadata": {},
   "outputs": [
    {
     "name": "stdout",
     "output_type": "stream",
     "text": [
      "[[0 1 2 3]]\n",
      "Transpose of matrix\n",
      "-------\n",
      " [[0]\n",
      " [1]\n",
      " [2]\n",
      " [3]]\n"
     ]
    }
   ],
   "source": [
    "add_cols=np.array([[0,1,2,3]])\n",
    "print(add_cols)\n",
    "add_cols=add_cols.T\n",
    "\n",
    "print(\"Transpose of matrix\\n-------\\n\",add_cols)"
   ]
  },
  {
   "cell_type": "code",
   "execution_count": 84,
   "metadata": {},
   "outputs": [
    {
     "name": "stdout",
     "output_type": "stream",
     "text": [
      "[100]\n",
      "\n",
      "------------------\n",
      " [[100. 100. 100.]\n",
      " [100. 100. 100.]\n",
      " [100. 100. 100.]]\n"
     ]
    }
   ],
   "source": [
    "add_scalar=np.array([100])\n",
    "print(add_scalar)\n",
    "print(\"\\n------------------\\n\",start+add_scalar)"
   ]
  },
  {
   "cell_type": "markdown",
   "metadata": {},
   "source": [
    "# Array Math"
   ]
  },
  {
   "cell_type": "code",
   "execution_count": 85,
   "metadata": {},
   "outputs": [
    {
     "name": "stdout",
     "output_type": "stream",
     "text": [
      "\n",
      "Sq-root [[2.         1.         1.73205081]\n",
      " [2.         2.44948974 2.64575131]\n",
      " [2.82842712 1.73205081 2.        ]]\n"
     ]
    }
   ],
   "source": [
    "print(\"\\nSq-root\",np.sqrt(mat1))"
   ]
  },
  {
   "cell_type": "code",
   "execution_count": 87,
   "metadata": {},
   "outputs": [
    {
     "name": "stdout",
     "output_type": "stream",
     "text": [
      "\n",
      "Exponential power of 1st matrix\n",
      " -------------------------------------------------- [[5.45981500e+01 2.71828183e+00 2.00855369e+01]\n",
      " [5.45981500e+01 4.03428793e+02 1.09663316e+03]\n",
      " [2.98095799e+03 2.00855369e+01 5.45981500e+01]]\n"
     ]
    }
   ],
   "source": [
    "print(\"\\nExponential power of 1st matrix\\n\",'-'*50,np.exp(mat1))"
   ]
  },
  {
   "cell_type": "code",
   "execution_count": 89,
   "metadata": {},
   "outputs": [
    {
     "name": "stdout",
     "output_type": "stream",
     "text": [
      "10-base logarithm matrix\n",
      " -------------------------------------------------- [[0.60205999 0.         0.47712125]\n",
      " [0.60205999 0.77815125 0.84509804]\n",
      " [0.90308999 0.47712125 0.60205999]]\n"
     ]
    }
   ],
   "source": [
    "print(\"10-base logarithm matrix\\n\",'-'*50,np.log10(mat1))"
   ]
  },
  {
   "cell_type": "code",
   "execution_count": 90,
   "metadata": {},
   "outputs": [
    {
     "data": {
      "text/plain": [
       "1.724275869600789"
      ]
     },
     "execution_count": 90,
     "metadata": {},
     "output_type": "execute_result"
    }
   ],
   "source": [
    "np.log10(53)"
   ]
  },
  {
   "cell_type": "code",
   "execution_count": 91,
   "metadata": {},
   "outputs": [
    {
     "data": {
      "text/plain": [
       "100"
      ]
     },
     "execution_count": 91,
     "metadata": {},
     "output_type": "execute_result"
    }
   ],
   "source": [
    "np.square(10)"
   ]
  },
  {
   "cell_type": "code",
   "execution_count": 22,
   "metadata": {},
   "outputs": [
    {
     "data": {
      "image/png": "[encoded data removed]",
      "text/plain": [
       "<Figure size 432x288 with 1 Axes>"
      ]
     },
     "metadata": {
      "needs_background": "light"
     },
     "output_type": "display_data"
    }
   ],
   "source": [
    "import matplotlib.pyplot as pl\n",
    "import numpy as np\n",
    "x=np.random.randn(50)\n",
    "pl.hist(x,bins=10)\n",
    "pl.show()"
   ]
  },
  {
   "cell_type": "code",
   "execution_count": null,
   "metadata": {},
   "outputs": [],
   "source": []
  },
  {
   "cell_type": "code",
   "execution_count": null,
   "metadata": {},
   "outputs": [],
   "source": []
  }
 ],
 "metadata": {
  "kernelspec": {
   "display_name": "Python 3",
   "language": "python",
   "name": "python3"
  },
  "language_info": {
   "codemirror_mode": {
    "name": "ipython",
    "version": 3
   },
   "file_extension": ".py",
   "mimetype": "text/x-python",
   "name": "python",
   "nbconvert_exporter": "python",
   "pygments_lexer": "ipython3",
   "version": "3.8.5"
  }
 },
 "nbformat": 4,
 "nbformat_minor": 4
}
