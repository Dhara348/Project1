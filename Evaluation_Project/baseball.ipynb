{
 "cells": [
  {
   "cell_type": "code",
   "execution_count": 1,
   "metadata": {},
   "outputs": [],
   "source": [
    "import pandas as pd\n",
    "import matplotlib.pyplot as plt\n",
    "import seaborn as sns\n",
    "import warnings\n",
    "warnings.filterwarnings('ignore')\n",
    "from sklearn.linear_model import LinearRegression\n",
    "from sklearn.metrics import r2_score\n",
    "from sklearn.metrics import confusion_matrix\n",
    "\n",
    "from sklearn.ensemble import RandomForestClassifier,RandomForestRegressor\n",
    "import numpy as np"
   ]
  },
  {
   "cell_type": "code",
   "execution_count": 2,
   "metadata": {},
   "outputs": [],
   "source": [
    "data=pd.read_csv('baseball.csv')"
   ]
  },
  {
   "cell_type": "code",
   "execution_count": 3,
   "metadata": {},
   "outputs": [
    {
     "data": {
      "text/html": [
       "<div>\n",
       "<style scoped>\n",
       "    .dataframe tbody tr th:only-of-type {\n",
       "        vertical-align: middle;\n",
       "    }\n",
       "\n",
       "    .dataframe tbody tr th {\n",
       "        vertical-align: top;\n",
       "    }\n",
       "\n",
       "    .dataframe thead th {\n",
       "        text-align: right;\n",
       "    }\n",
       "</style>\n",
       "<table border=\"1\" class=\"dataframe\">\n",
       "  <thead>\n",
       "    <tr style=\"text-align: right;\">\n",
       "      <th></th>\n",
       "      <th>W</th>\n",
       "      <th>R</th>\n",
       "      <th>AB</th>\n",
       "      <th>H</th>\n",
       "      <th>2B</th>\n",
       "      <th>3B</th>\n",
       "      <th>HR</th>\n",
       "      <th>BB</th>\n",
       "      <th>SO</th>\n",
       "      <th>SB</th>\n",
       "      <th>RA</th>\n",
       "      <th>ER</th>\n",
       "      <th>ERA</th>\n",
       "      <th>CG</th>\n",
       "      <th>SHO</th>\n",
       "      <th>SV</th>\n",
       "      <th>E</th>\n",
       "    </tr>\n",
       "  </thead>\n",
       "  <tbody>\n",
       "    <tr>\n",
       "      <th>0</th>\n",
       "      <td>95</td>\n",
       "      <td>724</td>\n",
       "      <td>5575</td>\n",
       "      <td>1497</td>\n",
       "      <td>300</td>\n",
       "      <td>42</td>\n",
       "      <td>139</td>\n",
       "      <td>383</td>\n",
       "      <td>973</td>\n",
       "      <td>104</td>\n",
       "      <td>641</td>\n",
       "      <td>601</td>\n",
       "      <td>3.73</td>\n",
       "      <td>2</td>\n",
       "      <td>8</td>\n",
       "      <td>56</td>\n",
       "      <td>88</td>\n",
       "    </tr>\n",
       "    <tr>\n",
       "      <th>1</th>\n",
       "      <td>83</td>\n",
       "      <td>696</td>\n",
       "      <td>5467</td>\n",
       "      <td>1349</td>\n",
       "      <td>277</td>\n",
       "      <td>44</td>\n",
       "      <td>156</td>\n",
       "      <td>439</td>\n",
       "      <td>1264</td>\n",
       "      <td>70</td>\n",
       "      <td>700</td>\n",
       "      <td>653</td>\n",
       "      <td>4.07</td>\n",
       "      <td>2</td>\n",
       "      <td>12</td>\n",
       "      <td>45</td>\n",
       "      <td>86</td>\n",
       "    </tr>\n",
       "    <tr>\n",
       "      <th>2</th>\n",
       "      <td>81</td>\n",
       "      <td>669</td>\n",
       "      <td>5439</td>\n",
       "      <td>1395</td>\n",
       "      <td>303</td>\n",
       "      <td>29</td>\n",
       "      <td>141</td>\n",
       "      <td>533</td>\n",
       "      <td>1157</td>\n",
       "      <td>86</td>\n",
       "      <td>640</td>\n",
       "      <td>584</td>\n",
       "      <td>3.67</td>\n",
       "      <td>11</td>\n",
       "      <td>10</td>\n",
       "      <td>38</td>\n",
       "      <td>79</td>\n",
       "    </tr>\n",
       "    <tr>\n",
       "      <th>3</th>\n",
       "      <td>76</td>\n",
       "      <td>622</td>\n",
       "      <td>5533</td>\n",
       "      <td>1381</td>\n",
       "      <td>260</td>\n",
       "      <td>27</td>\n",
       "      <td>136</td>\n",
       "      <td>404</td>\n",
       "      <td>1231</td>\n",
       "      <td>68</td>\n",
       "      <td>701</td>\n",
       "      <td>643</td>\n",
       "      <td>3.98</td>\n",
       "      <td>7</td>\n",
       "      <td>9</td>\n",
       "      <td>37</td>\n",
       "      <td>101</td>\n",
       "    </tr>\n",
       "    <tr>\n",
       "      <th>4</th>\n",
       "      <td>74</td>\n",
       "      <td>689</td>\n",
       "      <td>5605</td>\n",
       "      <td>1515</td>\n",
       "      <td>289</td>\n",
       "      <td>49</td>\n",
       "      <td>151</td>\n",
       "      <td>455</td>\n",
       "      <td>1259</td>\n",
       "      <td>83</td>\n",
       "      <td>803</td>\n",
       "      <td>746</td>\n",
       "      <td>4.64</td>\n",
       "      <td>7</td>\n",
       "      <td>12</td>\n",
       "      <td>35</td>\n",
       "      <td>86</td>\n",
       "    </tr>\n",
       "  </tbody>\n",
       "</table>\n",
       "</div>"
      ],
      "text/plain": [
       "    W    R    AB     H   2B  3B   HR   BB    SO   SB   RA   ER   ERA  CG  SHO  \\\n",
       "0  95  724  5575  1497  300  42  139  383   973  104  641  601  3.73   2    8   \n",
       "1  83  696  5467  1349  277  44  156  439  1264   70  700  653  4.07   2   12   \n",
       "2  81  669  5439  1395  303  29  141  533  1157   86  640  584  3.67  11   10   \n",
       "3  76  622  5533  1381  260  27  136  404  1231   68  701  643  3.98   7    9   \n",
       "4  74  689  5605  1515  289  49  151  455  1259   83  803  746  4.64   7   12   \n",
       "\n",
       "   SV    E  \n",
       "0  56   88  \n",
       "1  45   86  \n",
       "2  38   79  \n",
       "3  37  101  \n",
       "4  35   86  "
      ]
     },
     "execution_count": 3,
     "metadata": {},
     "output_type": "execute_result"
    }
   ],
   "source": [
    "data.head()"
   ]
  },
  {
   "cell_type": "code",
   "execution_count": 4,
   "metadata": {},
   "outputs": [
    {
     "data": {
      "text/plain": [
       "(30, 17)"
      ]
     },
     "execution_count": 4,
     "metadata": {},
     "output_type": "execute_result"
    }
   ],
   "source": [
    "data.shape"
   ]
  },
  {
   "cell_type": "code",
   "execution_count": 5,
   "metadata": {},
   "outputs": [
    {
     "data": {
      "text/plain": [
       "W      0\n",
       "R      0\n",
       "AB     0\n",
       "H      0\n",
       "2B     0\n",
       "3B     0\n",
       "HR     0\n",
       "BB     0\n",
       "SO     0\n",
       "SB     0\n",
       "RA     0\n",
       "ER     0\n",
       "ERA    0\n",
       "CG     0\n",
       "SHO    0\n",
       "SV     0\n",
       "E      0\n",
       "dtype: int64"
      ]
     },
     "execution_count": 5,
     "metadata": {},
     "output_type": "execute_result"
    }
   ],
   "source": [
    "data.isnull().sum()"
   ]
  },
  {
   "cell_type": "code",
   "execution_count": 6,
   "metadata": {},
   "outputs": [
    {
     "name": "stdout",
     "output_type": "stream",
     "text": [
      "<class 'pandas.core.frame.DataFrame'>\n",
      "RangeIndex: 30 entries, 0 to 29\n",
      "Data columns (total 17 columns):\n",
      " #   Column  Non-Null Count  Dtype  \n",
      "---  ------  --------------  -----  \n",
      " 0   W       30 non-null     int64  \n",
      " 1   R       30 non-null     int64  \n",
      " 2   AB      30 non-null     int64  \n",
      " 3   H       30 non-null     int64  \n",
      " 4   2B      30 non-null     int64  \n",
      " 5   3B      30 non-null     int64  \n",
      " 6   HR      30 non-null     int64  \n",
      " 7   BB      30 non-null     int64  \n",
      " 8   SO      30 non-null     int64  \n",
      " 9   SB      30 non-null     int64  \n",
      " 10  RA      30 non-null     int64  \n",
      " 11  ER      30 non-null     int64  \n",
      " 12  ERA     30 non-null     float64\n",
      " 13  CG      30 non-null     int64  \n",
      " 14  SHO     30 non-null     int64  \n",
      " 15  SV      30 non-null     int64  \n",
      " 16  E       30 non-null     int64  \n",
      "dtypes: float64(1), int64(16)\n",
      "memory usage: 4.1 KB\n"
     ]
    }
   ],
   "source": [
    "data.info()"
   ]
  },
  {
   "cell_type": "markdown",
   "metadata": {},
   "source": [
    "### Here in BaseBall dataset there is no missing value and no categorical data"
   ]
  },
  {
   "cell_type": "markdown",
   "metadata": {},
   "source": [
    "- W - Wins\n",
    "- R - Runs scored\n",
    "- AB - At bats\n",
    "- H - Hits by batters\n",
    "- 2B - hits on which the batter reaches second base safely without the contribution of a fielding error\n",
    "- 3B - hits on which the batter reaches third base safely without the contribution of a fielding error\n",
    "- HR - Homeruns by batters\n",
    "- BB - Walks by batters\n",
    "- SO - Strikeouts by batters\n",
    "- SB - Stolen bases\n",
    "- RA - Run Average\n",
    "- ER - Earned runs allowed\n",
    "- ERA - Earned run average\n",
    "- CG - Complete games\n",
    "- SHO - Shutouts\n",
    "- SV - Saves\n",
    "- E - Errors"
   ]
  },
  {
   "cell_type": "markdown",
   "metadata": {},
   "source": [
    "## Data Visulization"
   ]
  },
  {
   "cell_type": "code",
   "execution_count": 7,
   "metadata": {},
   "outputs": [
    {
     "data": {
      "image/png": "[encoded data removed]",
      "text/plain": [
       "<Figure size 1440x1440 with 8 Axes>"
      ]
     },
     "metadata": {},
     "output_type": "display_data"
    }
   ],
   "source": [
    "plt.figure(figsize=(20,20),facecolor='white')\n",
    "plotnumber=1\n",
    "for column in data:\n",
    "    if plotnumber<=8:\n",
    "        ax=plt.subplot(2,4,plotnumber)\n",
    "        sns.distplot(data[column])\n",
    "        plt.xlabel(column,fontsize=20)\n",
    "    plotnumber+=1\n",
    "plt.tight_layout()"
   ]
  },
  {
   "cell_type": "code",
   "execution_count": 8,
   "metadata": {},
   "outputs": [
    {
     "data": {
      "image/png": "[encoded data removed]",
      "text/plain": [
       "<Figure size 2160x6480 with 17 Axes>"
      ]
     },
     "metadata": {
      "needs_background": "light"
     },
     "output_type": "display_data"
    }
   ],
   "source": [
    "collist=data.columns.values\n",
    "ncol=30\n",
    "nrows=14\n",
    "plt.figure(figsize=(ncol,3*ncol))\n",
    "for i in range(0,len(collist)):\n",
    "    plt.subplot(nrows,ncol,i+1)\n",
    "    sns.boxplot(data[collist[i]],color='green',orient='v')\n",
    "    plt.tight_layout()"
   ]
  },
  {
   "cell_type": "code",
   "execution_count": 9,
   "metadata": {},
   "outputs": [
    {
     "data": {
      "image/png": "[encoded data removed]",
      "text/plain": [
       "<Figure size 432x288 with 1 Axes>"
      ]
     },
     "metadata": {
      "needs_background": "light"
     },
     "output_type": "display_data"
    }
   ],
   "source": [
    "plt.hist(data['W'])\n",
    "plt.xlabel('Wins')\n",
    "plt.title('Distribution of Wins')\n",
    "plt.show()"
   ]
  },
  {
   "cell_type": "code",
   "execution_count": 10,
   "metadata": {},
   "outputs": [
    {
     "data": {
      "text/plain": [
       "Index(['W', 'R', 'AB', 'H', '2B', '3B', 'HR', 'BB', 'SO', 'SB', 'RA', 'ER',\n",
       "       'ERA', 'CG', 'SHO', 'SV', 'E'],\n",
       "      dtype='object')"
      ]
     },
     "execution_count": 10,
     "metadata": {},
     "output_type": "execute_result"
    }
   ],
   "source": [
    "data.columns"
   ]
  },
  {
   "cell_type": "code",
   "execution_count": 11,
   "metadata": {},
   "outputs": [
    {
     "data": {
      "text/plain": [
       "[<matplotlib.lines.Line2D at 0x1bf01092f70>]"
      ]
     },
     "execution_count": 11,
     "metadata": {},
     "output_type": "execute_result"
    },
    {
     "data": {
      "image/png": "[encoded data removed]",
      "text/plain": [
       "<Figure size 432x288 with 1 Axes>"
      ]
     },
     "metadata": {
      "needs_background": "light"
     },
     "output_type": "display_data"
    }
   ],
   "source": [
    "plt.plot(data['W'],data['R'],'b*')"
   ]
  },
  {
   "cell_type": "code",
   "execution_count": 12,
   "metadata": {},
   "outputs": [
    {
     "data": {
      "text/plain": [
       "[<matplotlib.lines.Line2D at 0x1bf010fa070>]"
      ]
     },
     "execution_count": 12,
     "metadata": {},
     "output_type": "execute_result"
    },
    {
     "data": {
      "image/png": "[encoded data removed]",
      "text/plain": [
       "<Figure size 432x288 with 1 Axes>"
      ]
     },
     "metadata": {
      "needs_background": "light"
     },
     "output_type": "display_data"
    }
   ],
   "source": [
    "plt.plot(data['W'],data['RA'],'bo')"
   ]
  },
  {
   "cell_type": "code",
   "execution_count": 13,
   "metadata": {},
   "outputs": [
    {
     "data": {
      "text/plain": [
       "[<matplotlib.lines.Line2D at 0x1bf021270d0>]"
      ]
     },
     "execution_count": 13,
     "metadata": {},
     "output_type": "execute_result"
    },
    {
     "data": {
      "image/png": "[encoded data removed]",
      "text/plain": [
       "<Figure size 432x288 with 1 Axes>"
      ]
     },
     "metadata": {
      "needs_background": "light"
     },
     "output_type": "display_data"
    }
   ],
   "source": [
    "plt.plot(data['W'],data['H'],'bo')"
   ]
  },
  {
   "cell_type": "code",
   "execution_count": 14,
   "metadata": {},
   "outputs": [
    {
     "data": {
      "text/plain": [
       "[<matplotlib.lines.Line2D at 0x1bf0217f5e0>]"
      ]
     },
     "execution_count": 14,
     "metadata": {},
     "output_type": "execute_result"
    },
    {
     "data": {
      "image/png": "[encoded data removed]",
      "text/plain": [
       "<Figure size 432x288 with 1 Axes>"
      ]
     },
     "metadata": {
      "needs_background": "light"
     },
     "output_type": "display_data"
    }
   ],
   "source": [
    "plt.plot(data['W'],data['2B'],'bo')"
   ]
  },
  {
   "cell_type": "code",
   "execution_count": 15,
   "metadata": {},
   "outputs": [
    {
     "data": {
      "text/plain": [
       "[<matplotlib.lines.Line2D at 0x1bf021d9b80>]"
      ]
     },
     "execution_count": 15,
     "metadata": {},
     "output_type": "execute_result"
    },
    {
     "data": {
      "image/png": "[encoded data removed]",
      "text/plain": [
       "<Figure size 432x288 with 1 Axes>"
      ]
     },
     "metadata": {
      "needs_background": "light"
     },
     "output_type": "display_data"
    }
   ],
   "source": [
    "plt.plot(data['W'],data['3B'],'r*')"
   ]
  },
  {
   "cell_type": "code",
   "execution_count": 16,
   "metadata": {},
   "outputs": [
    {
     "data": {
      "text/plain": [
       "[<matplotlib.lines.Line2D at 0x1bf00d9a760>]"
      ]
     },
     "execution_count": 16,
     "metadata": {},
     "output_type": "execute_result"
    },
    {
     "data": {
      "image/png": "[encoded data removed]",
      "text/plain": [
       "<Figure size 432x288 with 1 Axes>"
      ]
     },
     "metadata": {
      "needs_background": "light"
     },
     "output_type": "display_data"
    }
   ],
   "source": [
    "plt.plot(data['W'],data['HR'],'go')"
   ]
  },
  {
   "cell_type": "code",
   "execution_count": 17,
   "metadata": {},
   "outputs": [
    {
     "data": {
      "text/plain": [
       "[<matplotlib.lines.Line2D at 0x1bf00d5f550>]"
      ]
     },
     "execution_count": 17,
     "metadata": {},
     "output_type": "execute_result"
    },
    {
     "data": {
      "image/png": "[encoded data removed]",
      "text/plain": [
       "<Figure size 432x288 with 1 Axes>"
      ]
     },
     "metadata": {
      "needs_background": "light"
     },
     "output_type": "display_data"
    }
   ],
   "source": [
    "plt.plot(data['W'],data['BB'],'g*')"
   ]
  },
  {
   "cell_type": "code",
   "execution_count": 18,
   "metadata": {},
   "outputs": [
    {
     "data": {
      "text/html": [
       "<div>\n",
       "<style scoped>\n",
       "    .dataframe tbody tr th:only-of-type {\n",
       "        vertical-align: middle;\n",
       "    }\n",
       "\n",
       "    .dataframe tbody tr th {\n",
       "        vertical-align: top;\n",
       "    }\n",
       "\n",
       "    .dataframe thead th {\n",
       "        text-align: right;\n",
       "    }\n",
       "</style>\n",
       "<table border=\"1\" class=\"dataframe\">\n",
       "  <thead>\n",
       "    <tr style=\"text-align: right;\">\n",
       "      <th></th>\n",
       "      <th>W</th>\n",
       "      <th>R</th>\n",
       "      <th>AB</th>\n",
       "      <th>H</th>\n",
       "      <th>2B</th>\n",
       "      <th>3B</th>\n",
       "      <th>HR</th>\n",
       "      <th>BB</th>\n",
       "      <th>SO</th>\n",
       "      <th>SB</th>\n",
       "      <th>RA</th>\n",
       "      <th>ER</th>\n",
       "      <th>ERA</th>\n",
       "      <th>CG</th>\n",
       "      <th>SHO</th>\n",
       "      <th>SV</th>\n",
       "      <th>E</th>\n",
       "    </tr>\n",
       "  </thead>\n",
       "  <tbody>\n",
       "    <tr>\n",
       "      <th>count</th>\n",
       "      <td>30.000000</td>\n",
       "      <td>30.000000</td>\n",
       "      <td>30.000000</td>\n",
       "      <td>30.000000</td>\n",
       "      <td>30.000000</td>\n",
       "      <td>30.000000</td>\n",
       "      <td>30.000000</td>\n",
       "      <td>30.000000</td>\n",
       "      <td>30.00000</td>\n",
       "      <td>30.000000</td>\n",
       "      <td>30.000000</td>\n",
       "      <td>30.000000</td>\n",
       "      <td>30.000000</td>\n",
       "      <td>30.000000</td>\n",
       "      <td>30.000000</td>\n",
       "      <td>30.000000</td>\n",
       "      <td>30.000000</td>\n",
       "    </tr>\n",
       "    <tr>\n",
       "      <th>mean</th>\n",
       "      <td>80.966667</td>\n",
       "      <td>688.233333</td>\n",
       "      <td>5516.266667</td>\n",
       "      <td>1403.533333</td>\n",
       "      <td>274.733333</td>\n",
       "      <td>31.300000</td>\n",
       "      <td>163.633333</td>\n",
       "      <td>469.100000</td>\n",
       "      <td>1248.20000</td>\n",
       "      <td>83.500000</td>\n",
       "      <td>688.233333</td>\n",
       "      <td>635.833333</td>\n",
       "      <td>3.956333</td>\n",
       "      <td>3.466667</td>\n",
       "      <td>11.300000</td>\n",
       "      <td>43.066667</td>\n",
       "      <td>94.333333</td>\n",
       "    </tr>\n",
       "    <tr>\n",
       "      <th>std</th>\n",
       "      <td>10.453455</td>\n",
       "      <td>58.761754</td>\n",
       "      <td>70.467372</td>\n",
       "      <td>57.140923</td>\n",
       "      <td>18.095405</td>\n",
       "      <td>10.452355</td>\n",
       "      <td>31.823309</td>\n",
       "      <td>57.053725</td>\n",
       "      <td>103.75947</td>\n",
       "      <td>22.815225</td>\n",
       "      <td>72.108005</td>\n",
       "      <td>70.140786</td>\n",
       "      <td>0.454089</td>\n",
       "      <td>2.763473</td>\n",
       "      <td>4.120177</td>\n",
       "      <td>7.869335</td>\n",
       "      <td>13.958889</td>\n",
       "    </tr>\n",
       "    <tr>\n",
       "      <th>min</th>\n",
       "      <td>63.000000</td>\n",
       "      <td>573.000000</td>\n",
       "      <td>5385.000000</td>\n",
       "      <td>1324.000000</td>\n",
       "      <td>236.000000</td>\n",
       "      <td>13.000000</td>\n",
       "      <td>100.000000</td>\n",
       "      <td>375.000000</td>\n",
       "      <td>973.00000</td>\n",
       "      <td>44.000000</td>\n",
       "      <td>525.000000</td>\n",
       "      <td>478.000000</td>\n",
       "      <td>2.940000</td>\n",
       "      <td>0.000000</td>\n",
       "      <td>4.000000</td>\n",
       "      <td>28.000000</td>\n",
       "      <td>75.000000</td>\n",
       "    </tr>\n",
       "    <tr>\n",
       "      <th>25%</th>\n",
       "      <td>74.000000</td>\n",
       "      <td>651.250000</td>\n",
       "      <td>5464.000000</td>\n",
       "      <td>1363.000000</td>\n",
       "      <td>262.250000</td>\n",
       "      <td>23.000000</td>\n",
       "      <td>140.250000</td>\n",
       "      <td>428.250000</td>\n",
       "      <td>1157.50000</td>\n",
       "      <td>69.000000</td>\n",
       "      <td>636.250000</td>\n",
       "      <td>587.250000</td>\n",
       "      <td>3.682500</td>\n",
       "      <td>1.000000</td>\n",
       "      <td>9.000000</td>\n",
       "      <td>37.250000</td>\n",
       "      <td>86.000000</td>\n",
       "    </tr>\n",
       "    <tr>\n",
       "      <th>50%</th>\n",
       "      <td>81.000000</td>\n",
       "      <td>689.000000</td>\n",
       "      <td>5510.000000</td>\n",
       "      <td>1382.500000</td>\n",
       "      <td>275.500000</td>\n",
       "      <td>31.000000</td>\n",
       "      <td>158.500000</td>\n",
       "      <td>473.000000</td>\n",
       "      <td>1261.50000</td>\n",
       "      <td>83.500000</td>\n",
       "      <td>695.500000</td>\n",
       "      <td>644.500000</td>\n",
       "      <td>4.025000</td>\n",
       "      <td>3.000000</td>\n",
       "      <td>12.000000</td>\n",
       "      <td>42.000000</td>\n",
       "      <td>91.000000</td>\n",
       "    </tr>\n",
       "    <tr>\n",
       "      <th>75%</th>\n",
       "      <td>87.750000</td>\n",
       "      <td>718.250000</td>\n",
       "      <td>5570.000000</td>\n",
       "      <td>1451.500000</td>\n",
       "      <td>288.750000</td>\n",
       "      <td>39.000000</td>\n",
       "      <td>177.000000</td>\n",
       "      <td>501.250000</td>\n",
       "      <td>1311.50000</td>\n",
       "      <td>96.500000</td>\n",
       "      <td>732.500000</td>\n",
       "      <td>679.250000</td>\n",
       "      <td>4.220000</td>\n",
       "      <td>5.750000</td>\n",
       "      <td>13.000000</td>\n",
       "      <td>46.750000</td>\n",
       "      <td>96.750000</td>\n",
       "    </tr>\n",
       "    <tr>\n",
       "      <th>max</th>\n",
       "      <td>100.000000</td>\n",
       "      <td>891.000000</td>\n",
       "      <td>5649.000000</td>\n",
       "      <td>1515.000000</td>\n",
       "      <td>308.000000</td>\n",
       "      <td>49.000000</td>\n",
       "      <td>232.000000</td>\n",
       "      <td>570.000000</td>\n",
       "      <td>1518.00000</td>\n",
       "      <td>134.000000</td>\n",
       "      <td>844.000000</td>\n",
       "      <td>799.000000</td>\n",
       "      <td>5.040000</td>\n",
       "      <td>11.000000</td>\n",
       "      <td>21.000000</td>\n",
       "      <td>62.000000</td>\n",
       "      <td>126.000000</td>\n",
       "    </tr>\n",
       "  </tbody>\n",
       "</table>\n",
       "</div>"
      ],
      "text/plain": [
       "                W           R           AB            H          2B  \\\n",
       "count   30.000000   30.000000    30.000000    30.000000   30.000000   \n",
       "mean    80.966667  688.233333  5516.266667  1403.533333  274.733333   \n",
       "std     10.453455   58.761754    70.467372    57.140923   18.095405   \n",
       "min     63.000000  573.000000  5385.000000  1324.000000  236.000000   \n",
       "25%     74.000000  651.250000  5464.000000  1363.000000  262.250000   \n",
       "50%     81.000000  689.000000  5510.000000  1382.500000  275.500000   \n",
       "75%     87.750000  718.250000  5570.000000  1451.500000  288.750000   \n",
       "max    100.000000  891.000000  5649.000000  1515.000000  308.000000   \n",
       "\n",
       "              3B          HR          BB          SO          SB          RA  \\\n",
       "count  30.000000   30.000000   30.000000    30.00000   30.000000   30.000000   \n",
       "mean   31.300000  163.633333  469.100000  1248.20000   83.500000  688.233333   \n",
       "std    10.452355   31.823309   57.053725   103.75947   22.815225   72.108005   \n",
       "min    13.000000  100.000000  375.000000   973.00000   44.000000  525.000000   \n",
       "25%    23.000000  140.250000  428.250000  1157.50000   69.000000  636.250000   \n",
       "50%    31.000000  158.500000  473.000000  1261.50000   83.500000  695.500000   \n",
       "75%    39.000000  177.000000  501.250000  1311.50000   96.500000  732.500000   \n",
       "max    49.000000  232.000000  570.000000  1518.00000  134.000000  844.000000   \n",
       "\n",
       "               ER        ERA         CG        SHO         SV           E  \n",
       "count   30.000000  30.000000  30.000000  30.000000  30.000000   30.000000  \n",
       "mean   635.833333   3.956333   3.466667  11.300000  43.066667   94.333333  \n",
       "std     70.140786   0.454089   2.763473   4.120177   7.869335   13.958889  \n",
       "min    478.000000   2.940000   0.000000   4.000000  28.000000   75.000000  \n",
       "25%    587.250000   3.682500   1.000000   9.000000  37.250000   86.000000  \n",
       "50%    644.500000   4.025000   3.000000  12.000000  42.000000   91.000000  \n",
       "75%    679.250000   4.220000   5.750000  13.000000  46.750000   96.750000  \n",
       "max    799.000000   5.040000  11.000000  21.000000  62.000000  126.000000  "
      ]
     },
     "execution_count": 18,
     "metadata": {},
     "output_type": "execute_result"
    }
   ],
   "source": [
    "data.describe()"
   ]
  },
  {
   "cell_type": "code",
   "execution_count": 19,
   "metadata": {},
   "outputs": [
    {
     "data": {
      "text/plain": [
       "<AxesSubplot:xlabel='R', ylabel='W'>"
      ]
     },
     "execution_count": 19,
     "metadata": {},
     "output_type": "execute_result"
    },
    {
     "data": {
      "image/png": "[encoded data removed]",
      "text/plain": [
       "<Figure size 432x288 with 1 Axes>"
      ]
     },
     "metadata": {
      "needs_background": "light"
     },
     "output_type": "display_data"
    }
   ],
   "source": [
    "sns.scatterplot(x='R',y='W',data=data)"
   ]
  },
  {
   "cell_type": "code",
   "execution_count": 20,
   "metadata": {},
   "outputs": [
    {
     "data": {
      "text/plain": [
       "<AxesSubplot:xlabel='AB', ylabel='W'>"
      ]
     },
     "execution_count": 20,
     "metadata": {},
     "output_type": "execute_result"
    },
    {
     "data": {
      "image/png": "[encoded data removed]",
      "text/plain": [
       "<Figure size 432x288 with 1 Axes>"
      ]
     },
     "metadata": {
      "needs_background": "light"
     },
     "output_type": "display_data"
    }
   ],
   "source": [
    "sns.scatterplot(x='AB',y='W',data=data)"
   ]
  },
  {
   "cell_type": "code",
   "execution_count": 21,
   "metadata": {},
   "outputs": [
    {
     "data": {
      "text/plain": [
       "<AxesSubplot:xlabel='H', ylabel='W'>"
      ]
     },
     "execution_count": 21,
     "metadata": {},
     "output_type": "execute_result"
    },
    {
     "data": {
      "image/png": "[encoded data removed]",
      "text/plain": [
       "<Figure size 432x288 with 1 Axes>"
      ]
     },
     "metadata": {
      "needs_background": "light"
     },
     "output_type": "display_data"
    }
   ],
   "source": [
    "sns.scatterplot(x='H',y='W',data=data)"
   ]
  },
  {
   "cell_type": "code",
   "execution_count": 22,
   "metadata": {},
   "outputs": [
    {
     "data": {
      "text/plain": [
       "<AxesSubplot:xlabel='2B', ylabel='W'>"
      ]
     },
     "execution_count": 22,
     "metadata": {},
     "output_type": "execute_result"
    },
    {
     "data": {
      "image/png": "[encoded data removed]",
      "text/plain": [
       "<Figure size 432x288 with 1 Axes>"
      ]
     },
     "metadata": {
      "needs_background": "light"
     },
     "output_type": "display_data"
    }
   ],
   "source": [
    "sns.scatterplot(x='2B',y='W',data=data)"
   ]
  },
  {
   "cell_type": "code",
   "execution_count": 23,
   "metadata": {},
   "outputs": [
    {
     "data": {
      "text/plain": [
       "<AxesSubplot:xlabel='3B', ylabel='W'>"
      ]
     },
     "execution_count": 23,
     "metadata": {},
     "output_type": "execute_result"
    },
    {
     "data": {
      "image/png": "[encoded data removed]",
      "text/plain": [
       "<Figure size 432x288 with 1 Axes>"
      ]
     },
     "metadata": {
      "needs_background": "light"
     },
     "output_type": "display_data"
    }
   ],
   "source": [
    "sns.scatterplot(x='3B',y='W',data=data)"
   ]
  },
  {
   "cell_type": "code",
   "execution_count": 24,
   "metadata": {},
   "outputs": [
    {
     "data": {
      "text/plain": [
       "<AxesSubplot:xlabel='HR', ylabel='W'>"
      ]
     },
     "execution_count": 24,
     "metadata": {},
     "output_type": "execute_result"
    },
    {
     "data": {
      "image/png": "[encoded data removed]",
      "text/plain": [
       "<Figure size 432x288 with 1 Axes>"
      ]
     },
     "metadata": {
      "needs_background": "light"
     },
     "output_type": "display_data"
    }
   ],
   "source": [
    "sns.scatterplot(x='HR',y='W',data=data)"
   ]
  },
  {
   "cell_type": "code",
   "execution_count": 25,
   "metadata": {},
   "outputs": [
    {
     "data": {
      "text/plain": [
       "<AxesSubplot:xlabel='BB', ylabel='W'>"
      ]
     },
     "execution_count": 25,
     "metadata": {},
     "output_type": "execute_result"
    },
    {
     "data": {
      "image/png": "[encoded data removed]",
      "text/plain": [
       "<Figure size 432x288 with 1 Axes>"
      ]
     },
     "metadata": {
      "needs_background": "light"
     },
     "output_type": "display_data"
    }
   ],
   "source": [
    "sns.scatterplot(x='BB',y='W',data=data)"
   ]
  },
  {
   "cell_type": "code",
   "execution_count": 26,
   "metadata": {},
   "outputs": [
    {
     "data": {
      "text/plain": [
       "<AxesSubplot:xlabel='SO', ylabel='W'>"
      ]
     },
     "execution_count": 26,
     "metadata": {},
     "output_type": "execute_result"
    },
    {
     "data": {
      "image/png": "[encoded data removed]",
      "text/plain": [
       "<Figure size 432x288 with 1 Axes>"
      ]
     },
     "metadata": {
      "needs_background": "light"
     },
     "output_type": "display_data"
    }
   ],
   "source": [
    "sns.scatterplot(x='SO',y='W',data=data)"
   ]
  },
  {
   "cell_type": "code",
   "execution_count": 27,
   "metadata": {},
   "outputs": [
    {
     "data": {
      "text/plain": [
       "<AxesSubplot:xlabel='SB', ylabel='W'>"
      ]
     },
     "execution_count": 27,
     "metadata": {},
     "output_type": "execute_result"
    },
    {
     "data": {
      "image/png": "[encoded data removed]",
      "text/plain": [
       "<Figure size 432x288 with 1 Axes>"
      ]
     },
     "metadata": {
      "needs_background": "light"
     },
     "output_type": "display_data"
    }
   ],
   "source": [
    "sns.scatterplot(x='SB',y='W',data=data)"
   ]
  },
  {
   "cell_type": "code",
   "execution_count": 28,
   "metadata": {},
   "outputs": [
    {
     "data": {
      "text/plain": [
       "<AxesSubplot:xlabel='RA', ylabel='W'>"
      ]
     },
     "execution_count": 28,
     "metadata": {},
     "output_type": "execute_result"
    },
    {
     "data": {
      "image/png": "[encoded data removed]",
      "text/plain": [
       "<Figure size 432x288 with 1 Axes>"
      ]
     },
     "metadata": {
      "needs_background": "light"
     },
     "output_type": "display_data"
    }
   ],
   "source": [
    "sns.scatterplot(x='RA',y='W',data=data)"
   ]
  },
  {
   "cell_type": "code",
   "execution_count": 29,
   "metadata": {},
   "outputs": [
    {
     "data": {
      "text/plain": [
       "<AxesSubplot:xlabel='ERA', ylabel='W'>"
      ]
     },
     "execution_count": 29,
     "metadata": {},
     "output_type": "execute_result"
    },
    {
     "data": {
      "image/png": "[encoded data removed]",
      "text/plain": [
       "<Figure size 432x288 with 1 Axes>"
      ]
     },
     "metadata": {
      "needs_background": "light"
     },
     "output_type": "display_data"
    }
   ],
   "source": [
    "sns.scatterplot(x='ERA',y='W',data=data)"
   ]
  },
  {
   "cell_type": "code",
   "execution_count": 30,
   "metadata": {},
   "outputs": [
    {
     "data": {
      "text/plain": [
       "<AxesSubplot:xlabel='ER', ylabel='W'>"
      ]
     },
     "execution_count": 30,
     "metadata": {},
     "output_type": "execute_result"
    },
    {
     "data": {
      "image/png": "[encoded data removed]",
      "text/plain": [
       "<Figure size 432x288 with 1 Axes>"
      ]
     },
     "metadata": {
      "needs_background": "light"
     },
     "output_type": "display_data"
    }
   ],
   "source": [
    "sns.scatterplot(x='ER',y='W',data=data)"
   ]
  },
  {
   "cell_type": "code",
   "execution_count": 31,
   "metadata": {},
   "outputs": [
    {
     "data": {
      "text/plain": [
       "<AxesSubplot:xlabel='R', ylabel='SHO'>"
      ]
     },
     "execution_count": 31,
     "metadata": {},
     "output_type": "execute_result"
    },
    {
     "data": {
      "image/png": "[encoded data removed]",
      "text/plain": [
       "<Figure size 432x288 with 1 Axes>"
      ]
     },
     "metadata": {
      "needs_background": "light"
     },
     "output_type": "display_data"
    }
   ],
   "source": [
    "sns.scatterplot(x='R',y='SHO',data=data)"
   ]
  },
  {
   "cell_type": "code",
   "execution_count": 32,
   "metadata": {},
   "outputs": [
    {
     "data": {
      "text/plain": [
       "<AxesSubplot:xlabel='CG', ylabel='W'>"
      ]
     },
     "execution_count": 32,
     "metadata": {},
     "output_type": "execute_result"
    },
    {
     "data": {
      "image/png": "[encoded data removed]",
      "text/plain": [
       "<Figure size 432x288 with 1 Axes>"
      ]
     },
     "metadata": {
      "needs_background": "light"
     },
     "output_type": "display_data"
    }
   ],
   "source": [
    "sns.scatterplot(x='CG',y='W',data=data)"
   ]
  },
  {
   "cell_type": "code",
   "execution_count": 33,
   "metadata": {},
   "outputs": [
    {
     "data": {
      "text/plain": [
       "<AxesSubplot:xlabel='SV', ylabel='W'>"
      ]
     },
     "execution_count": 33,
     "metadata": {},
     "output_type": "execute_result"
    },
    {
     "data": {
      "image/png": "[encoded data removed]",
      "text/plain": [
       "<Figure size 432x288 with 1 Axes>"
      ]
     },
     "metadata": {
      "needs_background": "light"
     },
     "output_type": "display_data"
    }
   ],
   "source": [
    "sns.scatterplot(x='SV',y='W',data=data)"
   ]
  },
  {
   "cell_type": "code",
   "execution_count": 34,
   "metadata": {},
   "outputs": [
    {
     "data": {
      "text/plain": [
       "<AxesSubplot:xlabel='E', ylabel='W'>"
      ]
     },
     "execution_count": 34,
     "metadata": {},
     "output_type": "execute_result"
    },
    {
     "data": {
      "image/png": "[encoded data removed]",
      "text/plain": [
       "<Figure size 432x288 with 1 Axes>"
      ]
     },
     "metadata": {
      "needs_background": "light"
     },
     "output_type": "display_data"
    }
   ],
   "source": [
    "sns.scatterplot(x='E',y='W',data=data)"
   ]
  },
  {
   "cell_type": "code",
   "execution_count": 35,
   "metadata": {},
   "outputs": [
    {
     "data": {
      "text/plain": [
       "<bound method DataFrame.corr of       W    R    AB     H   2B  3B   HR   BB    SO   SB   RA   ER   ERA  CG  \\\n",
       "0    95  724  5575  1497  300  42  139  383   973  104  641  601  3.73   2   \n",
       "1    83  696  5467  1349  277  44  156  439  1264   70  700  653  4.07   2   \n",
       "2    81  669  5439  1395  303  29  141  533  1157   86  640  584  3.67  11   \n",
       "3    76  622  5533  1381  260  27  136  404  1231   68  701  643  3.98   7   \n",
       "4    74  689  5605  1515  289  49  151  455  1259   83  803  746  4.64   7   \n",
       "5    93  891  5509  1480  308  17  232  570  1151   88  670  609  3.80   7   \n",
       "6    87  764  5567  1397  272  19  212  554  1227   63  698  652  4.03   3   \n",
       "7    81  713  5485  1370  246  20  217  418  1331   44  693  646  4.05   0   \n",
       "8    80  644  5485  1383  278  32  167  436  1310   87  642  604  3.74   1   \n",
       "9    78  748  5640  1495  294  33  161  478  1148   71  753  694  4.31   3   \n",
       "10   88  751  5511  1419  279  32  172  503  1233  101  733  680  4.24   5   \n",
       "11   86  729  5459  1363  278  26  230  486  1392  121  618  572  3.57   5   \n",
       "12   85  661  5417  1331  243  21  176  435  1150   52  675  630  3.94   2   \n",
       "13   76  656  5544  1379  262  22  198  478  1336   69  726  677  4.16   6   \n",
       "14   68  694  5600  1405  277  46  146  475  1119   78  729  664  4.14   5   \n",
       "15  100  647  5484  1386  288  39  137  506  1267   69  525  478  2.94   1   \n",
       "16   98  697  5631  1462  292  27  140  461  1322   98  596  532  3.21   0   \n",
       "17   97  689  5491  1341  272  30  171  567  1518   95  608  546  3.36   6   \n",
       "18   68  655  5480  1378  274  34  145  412  1299   84  737  682  4.28   1   \n",
       "19   64  640  5571  1382  257  27  167  496  1255  134  754  700  4.33   2   \n",
       "20   90  683  5527  1351  295  17  177  488  1290   51  613  557  3.43   1   \n",
       "21   83  703  5428  1363  265  13  177  539  1344   57  635  577  3.62   4   \n",
       "22   71  613  5463  1420  236  40  120  375  1150  112  678  638  4.02   0   \n",
       "23   67  573  5420  1361  251  18  100  471  1107   69  760  698  4.41   3   \n",
       "24   63  626  5529  1374  272  37  130  387  1274   88  809  749  4.69   1   \n",
       "25   92  667  5385  1346  263  26  187  563  1258   59  595  553  3.44   6   \n",
       "26   84  696  5565  1486  288  39  136  457  1159   93  627  597  3.72   7   \n",
       "27   79  720  5649  1494  289  48  154  490  1312  132  713  659  4.04   1   \n",
       "28   74  650  5457  1324  260  36  148  426  1327   82  731  655  4.09   1   \n",
       "29   68  737  5572  1479  274  49  186  388  1283   97  844  799  5.04   4   \n",
       "\n",
       "    SHO  SV    E  \n",
       "0     8  56   88  \n",
       "1    12  45   86  \n",
       "2    10  38   79  \n",
       "3     9  37  101  \n",
       "4    12  35   86  \n",
       "5    10  34   88  \n",
       "6     4  48   93  \n",
       "7    10  43   77  \n",
       "8    12  60   95  \n",
       "9    10  40   97  \n",
       "10    9  45  119  \n",
       "11   13  39   85  \n",
       "12   12  46   93  \n",
       "13   12  45   94  \n",
       "14   15  28  126  \n",
       "15   15  62   96  \n",
       "16   13  54  122  \n",
       "17   21  48  111  \n",
       "18    7  40  116  \n",
       "19    8  35   90  \n",
       "20   14  50   88  \n",
       "21   13  41   90  \n",
       "22   12  35   77  \n",
       "23   10  44   90  \n",
       "24    7  35  117  \n",
       "25   21  47   75  \n",
       "26   18  41   78  \n",
       "27   12  44   86  \n",
       "28    6  41   92  \n",
       "29    4  36   95  >"
      ]
     },
     "execution_count": 35,
     "metadata": {},
     "output_type": "execute_result"
    }
   ],
   "source": [
    "data.corr"
   ]
  },
  {
   "cell_type": "code",
   "execution_count": 36,
   "metadata": {},
   "outputs": [
    {
     "data": {
      "text/plain": [
       "<AxesSubplot:>"
      ]
     },
     "execution_count": 36,
     "metadata": {},
     "output_type": "execute_result"
    },
    {
     "data": {
      "image/png": "[encoded data removed]",
      "text/plain": [
       "<Figure size 1080x504 with 2 Axes>"
      ]
     },
     "metadata": {
      "needs_background": "light"
     },
     "output_type": "display_data"
    }
   ],
   "source": [
    "import matplotlib.pyplot as plt\n",
    "plt.figure(figsize=(15,7))\n",
    "sns.heatmap(data.corr(),annot=True,linewidth=0.5,linecolor=\"black\",fmt='.2f')"
   ]
  },
  {
   "cell_type": "code",
   "execution_count": 37,
   "metadata": {},
   "outputs": [
    {
     "data": {
      "text/plain": [
       "W      0.047089\n",
       "R      1.200786\n",
       "AB     0.183437\n",
       "H      0.670254\n",
       "2B    -0.230650\n",
       "3B     0.129502\n",
       "HR     0.516441\n",
       "BB     0.158498\n",
       "SO    -0.156065\n",
       "SB     0.479893\n",
       "RA     0.045734\n",
       "ER     0.058710\n",
       "ERA    0.053331\n",
       "CG     0.736845\n",
       "SHO    0.565790\n",
       "SV     0.657524\n",
       "E      0.890132\n",
       "dtype: float64"
      ]
     },
     "execution_count": 37,
     "metadata": {},
     "output_type": "execute_result"
    }
   ],
   "source": [
    "data.skew()"
   ]
  },
  {
   "cell_type": "code",
   "execution_count": 38,
   "metadata": {},
   "outputs": [],
   "source": [
    "X=data.drop(columns='W',axis=1)\n",
    "y=data['W']"
   ]
  },
  {
   "cell_type": "code",
   "execution_count": 39,
   "metadata": {},
   "outputs": [
    {
     "data": {
      "text/html": [
       "<div>\n",
       "<style scoped>\n",
       "    .dataframe tbody tr th:only-of-type {\n",
       "        vertical-align: middle;\n",
       "    }\n",
       "\n",
       "    .dataframe tbody tr th {\n",
       "        vertical-align: top;\n",
       "    }\n",
       "\n",
       "    .dataframe thead th {\n",
       "        text-align: right;\n",
       "    }\n",
       "</style>\n",
       "<table border=\"1\" class=\"dataframe\">\n",
       "  <thead>\n",
       "    <tr style=\"text-align: right;\">\n",
       "      <th></th>\n",
       "      <th>R</th>\n",
       "      <th>AB</th>\n",
       "      <th>H</th>\n",
       "      <th>2B</th>\n",
       "      <th>3B</th>\n",
       "      <th>HR</th>\n",
       "      <th>BB</th>\n",
       "      <th>SO</th>\n",
       "      <th>SB</th>\n",
       "      <th>RA</th>\n",
       "      <th>ER</th>\n",
       "      <th>ERA</th>\n",
       "      <th>CG</th>\n",
       "      <th>SHO</th>\n",
       "      <th>SV</th>\n",
       "      <th>E</th>\n",
       "    </tr>\n",
       "  </thead>\n",
       "  <tbody>\n",
       "    <tr>\n",
       "      <th>0</th>\n",
       "      <td>724</td>\n",
       "      <td>5575</td>\n",
       "      <td>1497</td>\n",
       "      <td>300</td>\n",
       "      <td>42</td>\n",
       "      <td>139</td>\n",
       "      <td>383</td>\n",
       "      <td>973</td>\n",
       "      <td>104</td>\n",
       "      <td>641</td>\n",
       "      <td>601</td>\n",
       "      <td>3.73</td>\n",
       "      <td>2</td>\n",
       "      <td>8</td>\n",
       "      <td>56</td>\n",
       "      <td>88</td>\n",
       "    </tr>\n",
       "    <tr>\n",
       "      <th>1</th>\n",
       "      <td>696</td>\n",
       "      <td>5467</td>\n",
       "      <td>1349</td>\n",
       "      <td>277</td>\n",
       "      <td>44</td>\n",
       "      <td>156</td>\n",
       "      <td>439</td>\n",
       "      <td>1264</td>\n",
       "      <td>70</td>\n",
       "      <td>700</td>\n",
       "      <td>653</td>\n",
       "      <td>4.07</td>\n",
       "      <td>2</td>\n",
       "      <td>12</td>\n",
       "      <td>45</td>\n",
       "      <td>86</td>\n",
       "    </tr>\n",
       "    <tr>\n",
       "      <th>2</th>\n",
       "      <td>669</td>\n",
       "      <td>5439</td>\n",
       "      <td>1395</td>\n",
       "      <td>303</td>\n",
       "      <td>29</td>\n",
       "      <td>141</td>\n",
       "      <td>533</td>\n",
       "      <td>1157</td>\n",
       "      <td>86</td>\n",
       "      <td>640</td>\n",
       "      <td>584</td>\n",
       "      <td>3.67</td>\n",
       "      <td>11</td>\n",
       "      <td>10</td>\n",
       "      <td>38</td>\n",
       "      <td>79</td>\n",
       "    </tr>\n",
       "    <tr>\n",
       "      <th>3</th>\n",
       "      <td>622</td>\n",
       "      <td>5533</td>\n",
       "      <td>1381</td>\n",
       "      <td>260</td>\n",
       "      <td>27</td>\n",
       "      <td>136</td>\n",
       "      <td>404</td>\n",
       "      <td>1231</td>\n",
       "      <td>68</td>\n",
       "      <td>701</td>\n",
       "      <td>643</td>\n",
       "      <td>3.98</td>\n",
       "      <td>7</td>\n",
       "      <td>9</td>\n",
       "      <td>37</td>\n",
       "      <td>101</td>\n",
       "    </tr>\n",
       "    <tr>\n",
       "      <th>4</th>\n",
       "      <td>689</td>\n",
       "      <td>5605</td>\n",
       "      <td>1515</td>\n",
       "      <td>289</td>\n",
       "      <td>49</td>\n",
       "      <td>151</td>\n",
       "      <td>455</td>\n",
       "      <td>1259</td>\n",
       "      <td>83</td>\n",
       "      <td>803</td>\n",
       "      <td>746</td>\n",
       "      <td>4.64</td>\n",
       "      <td>7</td>\n",
       "      <td>12</td>\n",
       "      <td>35</td>\n",
       "      <td>86</td>\n",
       "    </tr>\n",
       "    <tr>\n",
       "      <th>5</th>\n",
       "      <td>891</td>\n",
       "      <td>5509</td>\n",
       "      <td>1480</td>\n",
       "      <td>308</td>\n",
       "      <td>17</td>\n",
       "      <td>232</td>\n",
       "      <td>570</td>\n",
       "      <td>1151</td>\n",
       "      <td>88</td>\n",
       "      <td>670</td>\n",
       "      <td>609</td>\n",
       "      <td>3.80</td>\n",
       "      <td>7</td>\n",
       "      <td>10</td>\n",
       "      <td>34</td>\n",
       "      <td>88</td>\n",
       "    </tr>\n",
       "    <tr>\n",
       "      <th>6</th>\n",
       "      <td>764</td>\n",
       "      <td>5567</td>\n",
       "      <td>1397</td>\n",
       "      <td>272</td>\n",
       "      <td>19</td>\n",
       "      <td>212</td>\n",
       "      <td>554</td>\n",
       "      <td>1227</td>\n",
       "      <td>63</td>\n",
       "      <td>698</td>\n",
       "      <td>652</td>\n",
       "      <td>4.03</td>\n",
       "      <td>3</td>\n",
       "      <td>4</td>\n",
       "      <td>48</td>\n",
       "      <td>93</td>\n",
       "    </tr>\n",
       "    <tr>\n",
       "      <th>7</th>\n",
       "      <td>713</td>\n",
       "      <td>5485</td>\n",
       "      <td>1370</td>\n",
       "      <td>246</td>\n",
       "      <td>20</td>\n",
       "      <td>217</td>\n",
       "      <td>418</td>\n",
       "      <td>1331</td>\n",
       "      <td>44</td>\n",
       "      <td>693</td>\n",
       "      <td>646</td>\n",
       "      <td>4.05</td>\n",
       "      <td>0</td>\n",
       "      <td>10</td>\n",
       "      <td>43</td>\n",
       "      <td>77</td>\n",
       "    </tr>\n",
       "    <tr>\n",
       "      <th>8</th>\n",
       "      <td>644</td>\n",
       "      <td>5485</td>\n",
       "      <td>1383</td>\n",
       "      <td>278</td>\n",
       "      <td>32</td>\n",
       "      <td>167</td>\n",
       "      <td>436</td>\n",
       "      <td>1310</td>\n",
       "      <td>87</td>\n",
       "      <td>642</td>\n",
       "      <td>604</td>\n",
       "      <td>3.74</td>\n",
       "      <td>1</td>\n",
       "      <td>12</td>\n",
       "      <td>60</td>\n",
       "      <td>95</td>\n",
       "    </tr>\n",
       "    <tr>\n",
       "      <th>9</th>\n",
       "      <td>748</td>\n",
       "      <td>5640</td>\n",
       "      <td>1495</td>\n",
       "      <td>294</td>\n",
       "      <td>33</td>\n",
       "      <td>161</td>\n",
       "      <td>478</td>\n",
       "      <td>1148</td>\n",
       "      <td>71</td>\n",
       "      <td>753</td>\n",
       "      <td>694</td>\n",
       "      <td>4.31</td>\n",
       "      <td>3</td>\n",
       "      <td>10</td>\n",
       "      <td>40</td>\n",
       "      <td>97</td>\n",
       "    </tr>\n",
       "    <tr>\n",
       "      <th>10</th>\n",
       "      <td>751</td>\n",
       "      <td>5511</td>\n",
       "      <td>1419</td>\n",
       "      <td>279</td>\n",
       "      <td>32</td>\n",
       "      <td>172</td>\n",
       "      <td>503</td>\n",
       "      <td>1233</td>\n",
       "      <td>101</td>\n",
       "      <td>733</td>\n",
       "      <td>680</td>\n",
       "      <td>4.24</td>\n",
       "      <td>5</td>\n",
       "      <td>9</td>\n",
       "      <td>45</td>\n",
       "      <td>119</td>\n",
       "    </tr>\n",
       "    <tr>\n",
       "      <th>11</th>\n",
       "      <td>729</td>\n",
       "      <td>5459</td>\n",
       "      <td>1363</td>\n",
       "      <td>278</td>\n",
       "      <td>26</td>\n",
       "      <td>230</td>\n",
       "      <td>486</td>\n",
       "      <td>1392</td>\n",
       "      <td>121</td>\n",
       "      <td>618</td>\n",
       "      <td>572</td>\n",
       "      <td>3.57</td>\n",
       "      <td>5</td>\n",
       "      <td>13</td>\n",
       "      <td>39</td>\n",
       "      <td>85</td>\n",
       "    </tr>\n",
       "    <tr>\n",
       "      <th>12</th>\n",
       "      <td>661</td>\n",
       "      <td>5417</td>\n",
       "      <td>1331</td>\n",
       "      <td>243</td>\n",
       "      <td>21</td>\n",
       "      <td>176</td>\n",
       "      <td>435</td>\n",
       "      <td>1150</td>\n",
       "      <td>52</td>\n",
       "      <td>675</td>\n",
       "      <td>630</td>\n",
       "      <td>3.94</td>\n",
       "      <td>2</td>\n",
       "      <td>12</td>\n",
       "      <td>46</td>\n",
       "      <td>93</td>\n",
       "    </tr>\n",
       "    <tr>\n",
       "      <th>13</th>\n",
       "      <td>656</td>\n",
       "      <td>5544</td>\n",
       "      <td>1379</td>\n",
       "      <td>262</td>\n",
       "      <td>22</td>\n",
       "      <td>198</td>\n",
       "      <td>478</td>\n",
       "      <td>1336</td>\n",
       "      <td>69</td>\n",
       "      <td>726</td>\n",
       "      <td>677</td>\n",
       "      <td>4.16</td>\n",
       "      <td>6</td>\n",
       "      <td>12</td>\n",
       "      <td>45</td>\n",
       "      <td>94</td>\n",
       "    </tr>\n",
       "    <tr>\n",
       "      <th>14</th>\n",
       "      <td>694</td>\n",
       "      <td>5600</td>\n",
       "      <td>1405</td>\n",
       "      <td>277</td>\n",
       "      <td>46</td>\n",
       "      <td>146</td>\n",
       "      <td>475</td>\n",
       "      <td>1119</td>\n",
       "      <td>78</td>\n",
       "      <td>729</td>\n",
       "      <td>664</td>\n",
       "      <td>4.14</td>\n",
       "      <td>5</td>\n",
       "      <td>15</td>\n",
       "      <td>28</td>\n",
       "      <td>126</td>\n",
       "    </tr>\n",
       "    <tr>\n",
       "      <th>15</th>\n",
       "      <td>647</td>\n",
       "      <td>5484</td>\n",
       "      <td>1386</td>\n",
       "      <td>288</td>\n",
       "      <td>39</td>\n",
       "      <td>137</td>\n",
       "      <td>506</td>\n",
       "      <td>1267</td>\n",
       "      <td>69</td>\n",
       "      <td>525</td>\n",
       "      <td>478</td>\n",
       "      <td>2.94</td>\n",
       "      <td>1</td>\n",
       "      <td>15</td>\n",
       "      <td>62</td>\n",
       "      <td>96</td>\n",
       "    </tr>\n",
       "    <tr>\n",
       "      <th>16</th>\n",
       "      <td>697</td>\n",
       "      <td>5631</td>\n",
       "      <td>1462</td>\n",
       "      <td>292</td>\n",
       "      <td>27</td>\n",
       "      <td>140</td>\n",
       "      <td>461</td>\n",
       "      <td>1322</td>\n",
       "      <td>98</td>\n",
       "      <td>596</td>\n",
       "      <td>532</td>\n",
       "      <td>3.21</td>\n",
       "      <td>0</td>\n",
       "      <td>13</td>\n",
       "      <td>54</td>\n",
       "      <td>122</td>\n",
       "    </tr>\n",
       "    <tr>\n",
       "      <th>17</th>\n",
       "      <td>689</td>\n",
       "      <td>5491</td>\n",
       "      <td>1341</td>\n",
       "      <td>272</td>\n",
       "      <td>30</td>\n",
       "      <td>171</td>\n",
       "      <td>567</td>\n",
       "      <td>1518</td>\n",
       "      <td>95</td>\n",
       "      <td>608</td>\n",
       "      <td>546</td>\n",
       "      <td>3.36</td>\n",
       "      <td>6</td>\n",
       "      <td>21</td>\n",
       "      <td>48</td>\n",
       "      <td>111</td>\n",
       "    </tr>\n",
       "    <tr>\n",
       "      <th>18</th>\n",
       "      <td>655</td>\n",
       "      <td>5480</td>\n",
       "      <td>1378</td>\n",
       "      <td>274</td>\n",
       "      <td>34</td>\n",
       "      <td>145</td>\n",
       "      <td>412</td>\n",
       "      <td>1299</td>\n",
       "      <td>84</td>\n",
       "      <td>737</td>\n",
       "      <td>682</td>\n",
       "      <td>4.28</td>\n",
       "      <td>1</td>\n",
       "      <td>7</td>\n",
       "      <td>40</td>\n",
       "      <td>116</td>\n",
       "    </tr>\n",
       "    <tr>\n",
       "      <th>19</th>\n",
       "      <td>640</td>\n",
       "      <td>5571</td>\n",
       "      <td>1382</td>\n",
       "      <td>257</td>\n",
       "      <td>27</td>\n",
       "      <td>167</td>\n",
       "      <td>496</td>\n",
       "      <td>1255</td>\n",
       "      <td>134</td>\n",
       "      <td>754</td>\n",
       "      <td>700</td>\n",
       "      <td>4.33</td>\n",
       "      <td>2</td>\n",
       "      <td>8</td>\n",
       "      <td>35</td>\n",
       "      <td>90</td>\n",
       "    </tr>\n",
       "    <tr>\n",
       "      <th>20</th>\n",
       "      <td>683</td>\n",
       "      <td>5527</td>\n",
       "      <td>1351</td>\n",
       "      <td>295</td>\n",
       "      <td>17</td>\n",
       "      <td>177</td>\n",
       "      <td>488</td>\n",
       "      <td>1290</td>\n",
       "      <td>51</td>\n",
       "      <td>613</td>\n",
       "      <td>557</td>\n",
       "      <td>3.43</td>\n",
       "      <td>1</td>\n",
       "      <td>14</td>\n",
       "      <td>50</td>\n",
       "      <td>88</td>\n",
       "    </tr>\n",
       "    <tr>\n",
       "      <th>21</th>\n",
       "      <td>703</td>\n",
       "      <td>5428</td>\n",
       "      <td>1363</td>\n",
       "      <td>265</td>\n",
       "      <td>13</td>\n",
       "      <td>177</td>\n",
       "      <td>539</td>\n",
       "      <td>1344</td>\n",
       "      <td>57</td>\n",
       "      <td>635</td>\n",
       "      <td>577</td>\n",
       "      <td>3.62</td>\n",
       "      <td>4</td>\n",
       "      <td>13</td>\n",
       "      <td>41</td>\n",
       "      <td>90</td>\n",
       "    </tr>\n",
       "    <tr>\n",
       "      <th>22</th>\n",
       "      <td>613</td>\n",
       "      <td>5463</td>\n",
       "      <td>1420</td>\n",
       "      <td>236</td>\n",
       "      <td>40</td>\n",
       "      <td>120</td>\n",
       "      <td>375</td>\n",
       "      <td>1150</td>\n",
       "      <td>112</td>\n",
       "      <td>678</td>\n",
       "      <td>638</td>\n",
       "      <td>4.02</td>\n",
       "      <td>0</td>\n",
       "      <td>12</td>\n",
       "      <td>35</td>\n",
       "      <td>77</td>\n",
       "    </tr>\n",
       "    <tr>\n",
       "      <th>23</th>\n",
       "      <td>573</td>\n",
       "      <td>5420</td>\n",
       "      <td>1361</td>\n",
       "      <td>251</td>\n",
       "      <td>18</td>\n",
       "      <td>100</td>\n",
       "      <td>471</td>\n",
       "      <td>1107</td>\n",
       "      <td>69</td>\n",
       "      <td>760</td>\n",
       "      <td>698</td>\n",
       "      <td>4.41</td>\n",
       "      <td>3</td>\n",
       "      <td>10</td>\n",
       "      <td>44</td>\n",
       "      <td>90</td>\n",
       "    </tr>\n",
       "    <tr>\n",
       "      <th>24</th>\n",
       "      <td>626</td>\n",
       "      <td>5529</td>\n",
       "      <td>1374</td>\n",
       "      <td>272</td>\n",
       "      <td>37</td>\n",
       "      <td>130</td>\n",
       "      <td>387</td>\n",
       "      <td>1274</td>\n",
       "      <td>88</td>\n",
       "      <td>809</td>\n",
       "      <td>749</td>\n",
       "      <td>4.69</td>\n",
       "      <td>1</td>\n",
       "      <td>7</td>\n",
       "      <td>35</td>\n",
       "      <td>117</td>\n",
       "    </tr>\n",
       "    <tr>\n",
       "      <th>25</th>\n",
       "      <td>667</td>\n",
       "      <td>5385</td>\n",
       "      <td>1346</td>\n",
       "      <td>263</td>\n",
       "      <td>26</td>\n",
       "      <td>187</td>\n",
       "      <td>563</td>\n",
       "      <td>1258</td>\n",
       "      <td>59</td>\n",
       "      <td>595</td>\n",
       "      <td>553</td>\n",
       "      <td>3.44</td>\n",
       "      <td>6</td>\n",
       "      <td>21</td>\n",
       "      <td>47</td>\n",
       "      <td>75</td>\n",
       "    </tr>\n",
       "    <tr>\n",
       "      <th>26</th>\n",
       "      <td>696</td>\n",
       "      <td>5565</td>\n",
       "      <td>1486</td>\n",
       "      <td>288</td>\n",
       "      <td>39</td>\n",
       "      <td>136</td>\n",
       "      <td>457</td>\n",
       "      <td>1159</td>\n",
       "      <td>93</td>\n",
       "      <td>627</td>\n",
       "      <td>597</td>\n",
       "      <td>3.72</td>\n",
       "      <td>7</td>\n",
       "      <td>18</td>\n",
       "      <td>41</td>\n",
       "      <td>78</td>\n",
       "    </tr>\n",
       "    <tr>\n",
       "      <th>27</th>\n",
       "      <td>720</td>\n",
       "      <td>5649</td>\n",
       "      <td>1494</td>\n",
       "      <td>289</td>\n",
       "      <td>48</td>\n",
       "      <td>154</td>\n",
       "      <td>490</td>\n",
       "      <td>1312</td>\n",
       "      <td>132</td>\n",
       "      <td>713</td>\n",
       "      <td>659</td>\n",
       "      <td>4.04</td>\n",
       "      <td>1</td>\n",
       "      <td>12</td>\n",
       "      <td>44</td>\n",
       "      <td>86</td>\n",
       "    </tr>\n",
       "    <tr>\n",
       "      <th>28</th>\n",
       "      <td>650</td>\n",
       "      <td>5457</td>\n",
       "      <td>1324</td>\n",
       "      <td>260</td>\n",
       "      <td>36</td>\n",
       "      <td>148</td>\n",
       "      <td>426</td>\n",
       "      <td>1327</td>\n",
       "      <td>82</td>\n",
       "      <td>731</td>\n",
       "      <td>655</td>\n",
       "      <td>4.09</td>\n",
       "      <td>1</td>\n",
       "      <td>6</td>\n",
       "      <td>41</td>\n",
       "      <td>92</td>\n",
       "    </tr>\n",
       "    <tr>\n",
       "      <th>29</th>\n",
       "      <td>737</td>\n",
       "      <td>5572</td>\n",
       "      <td>1479</td>\n",
       "      <td>274</td>\n",
       "      <td>49</td>\n",
       "      <td>186</td>\n",
       "      <td>388</td>\n",
       "      <td>1283</td>\n",
       "      <td>97</td>\n",
       "      <td>844</td>\n",
       "      <td>799</td>\n",
       "      <td>5.04</td>\n",
       "      <td>4</td>\n",
       "      <td>4</td>\n",
       "      <td>36</td>\n",
       "      <td>95</td>\n",
       "    </tr>\n",
       "  </tbody>\n",
       "</table>\n",
       "</div>"
      ],
      "text/plain": [
       "      R    AB     H   2B  3B   HR   BB    SO   SB   RA   ER   ERA  CG  SHO  \\\n",
       "0   724  5575  1497  300  42  139  383   973  104  641  601  3.73   2    8   \n",
       "1   696  5467  1349  277  44  156  439  1264   70  700  653  4.07   2   12   \n",
       "2   669  5439  1395  303  29  141  533  1157   86  640  584  3.67  11   10   \n",
       "3   622  5533  1381  260  27  136  404  1231   68  701  643  3.98   7    9   \n",
       "4   689  5605  1515  289  49  151  455  1259   83  803  746  4.64   7   12   \n",
       "5   891  5509  1480  308  17  232  570  1151   88  670  609  3.80   7   10   \n",
       "6   764  5567  1397  272  19  212  554  1227   63  698  652  4.03   3    4   \n",
       "7   713  5485  1370  246  20  217  418  1331   44  693  646  4.05   0   10   \n",
       "8   644  5485  1383  278  32  167  436  1310   87  642  604  3.74   1   12   \n",
       "9   748  5640  1495  294  33  161  478  1148   71  753  694  4.31   3   10   \n",
       "10  751  5511  1419  279  32  172  503  1233  101  733  680  4.24   5    9   \n",
       "11  729  5459  1363  278  26  230  486  1392  121  618  572  3.57   5   13   \n",
       "12  661  5417  1331  243  21  176  435  1150   52  675  630  3.94   2   12   \n",
       "13  656  5544  1379  262  22  198  478  1336   69  726  677  4.16   6   12   \n",
       "14  694  5600  1405  277  46  146  475  1119   78  729  664  4.14   5   15   \n",
       "15  647  5484  1386  288  39  137  506  1267   69  525  478  2.94   1   15   \n",
       "16  697  5631  1462  292  27  140  461  1322   98  596  532  3.21   0   13   \n",
       "17  689  5491  1341  272  30  171  567  1518   95  608  546  3.36   6   21   \n",
       "18  655  5480  1378  274  34  145  412  1299   84  737  682  4.28   1    7   \n",
       "19  640  5571  1382  257  27  167  496  1255  134  754  700  4.33   2    8   \n",
       "20  683  5527  1351  295  17  177  488  1290   51  613  557  3.43   1   14   \n",
       "21  703  5428  1363  265  13  177  539  1344   57  635  577  3.62   4   13   \n",
       "22  613  5463  1420  236  40  120  375  1150  112  678  638  4.02   0   12   \n",
       "23  573  5420  1361  251  18  100  471  1107   69  760  698  4.41   3   10   \n",
       "24  626  5529  1374  272  37  130  387  1274   88  809  749  4.69   1    7   \n",
       "25  667  5385  1346  263  26  187  563  1258   59  595  553  3.44   6   21   \n",
       "26  696  5565  1486  288  39  136  457  1159   93  627  597  3.72   7   18   \n",
       "27  720  5649  1494  289  48  154  490  1312  132  713  659  4.04   1   12   \n",
       "28  650  5457  1324  260  36  148  426  1327   82  731  655  4.09   1    6   \n",
       "29  737  5572  1479  274  49  186  388  1283   97  844  799  5.04   4    4   \n",
       "\n",
       "    SV    E  \n",
       "0   56   88  \n",
       "1   45   86  \n",
       "2   38   79  \n",
       "3   37  101  \n",
       "4   35   86  \n",
       "5   34   88  \n",
       "6   48   93  \n",
       "7   43   77  \n",
       "8   60   95  \n",
       "9   40   97  \n",
       "10  45  119  \n",
       "11  39   85  \n",
       "12  46   93  \n",
       "13  45   94  \n",
       "14  28  126  \n",
       "15  62   96  \n",
       "16  54  122  \n",
       "17  48  111  \n",
       "18  40  116  \n",
       "19  35   90  \n",
       "20  50   88  \n",
       "21  41   90  \n",
       "22  35   77  \n",
       "23  44   90  \n",
       "24  35  117  \n",
       "25  47   75  \n",
       "26  41   78  \n",
       "27  44   86  \n",
       "28  41   92  \n",
       "29  36   95  "
      ]
     },
     "execution_count": 39,
     "metadata": {},
     "output_type": "execute_result"
    }
   ],
   "source": [
    "X"
   ]
  },
  {
   "cell_type": "code",
   "execution_count": 40,
   "metadata": {},
   "outputs": [
    {
     "data": {
      "text/plain": [
       "0      95\n",
       "1      83\n",
       "2      81\n",
       "3      76\n",
       "4      74\n",
       "5      93\n",
       "6      87\n",
       "7      81\n",
       "8      80\n",
       "9      78\n",
       "10     88\n",
       "11     86\n",
       "12     85\n",
       "13     76\n",
       "14     68\n",
       "15    100\n",
       "16     98\n",
       "17     97\n",
       "18     68\n",
       "19     64\n",
       "20     90\n",
       "21     83\n",
       "22     71\n",
       "23     67\n",
       "24     63\n",
       "25     92\n",
       "26     84\n",
       "27     79\n",
       "28     74\n",
       "29     68\n",
       "Name: W, dtype: int64"
      ]
     },
     "execution_count": 40,
     "metadata": {},
     "output_type": "execute_result"
    }
   ],
   "source": [
    "y"
   ]
  },
  {
   "cell_type": "code",
   "execution_count": 41,
   "metadata": {},
   "outputs": [
    {
     "data": {
      "text/plain": [
       "array([[ 0.61907797,  0.84773126,  1.66368512,  1.42017307,  1.04119304,\n",
       "        -0.7872986 , -1.53490242, -2.69762957,  0.91388329, -0.66623393,\n",
       "        -0.50511008, -0.50695519, -0.5398062 , -0.81462859,  1.67160651,\n",
       "        -0.46146963],\n",
       "       [ 0.13443166, -0.71109353, -0.97068076,  0.12740339,  1.23580856,\n",
       "        -0.24396668, -0.5365919 ,  0.15487844, -0.60182558,  0.16597077,\n",
       "         0.24892985,  0.25459752, -0.5398062 ,  0.1728    ,  0.24987932,\n",
       "        -0.60719689],\n",
       "       [-0.33290586, -1.1152333 , -0.15189137,  1.58879521, -0.22380785,\n",
       "        -0.7233772 ,  1.13914361, -0.89398189,  0.11144918, -0.68033909,\n",
       "        -0.75162313, -0.64134684,  2.77264091, -0.32091429, -0.65485616,\n",
       "        -1.11724227],\n",
       "       [-1.14641931,  0.24152162, -0.40108814, -0.82812203, -0.41842337,\n",
       "        -0.8831807 , -1.16053598, -0.16860185, -0.69098493,  0.18007593,\n",
       "         0.10392217,  0.05301004,  1.3004422 , -0.56777144, -0.78410408,\n",
       "         0.48575751],\n",
       "       [ 0.01327008,  1.28073815,  1.98408098,  0.80189192,  1.72234737,\n",
       "        -0.40377019, -0.25136033,  0.10586628, -0.02228984,  1.61880269,\n",
       "         1.59750126,  1.53131824,  1.3004422 ,  0.1728    , -1.04259994,\n",
       "        -0.60719689],\n",
       "       [ 3.50964704, -0.10488389,  1.36108904,  1.86983209, -1.39150098,\n",
       "         2.18504658,  1.79874163, -0.95279649,  0.20060853, -0.25718416,\n",
       "        -0.38910394, -0.35016492,  1.3004422 , -0.32091429, -1.17184786,\n",
       "        -0.46146963],\n",
       "       [ 1.31142984,  0.73226276, -0.11629183, -0.1536335 , -1.19688546,\n",
       "         1.54583256,  1.51351006, -0.20781158, -0.91388329,  0.13776044,\n",
       "         0.23442908,  0.16500309, -0.17175652, -1.80205719,  0.6376231 ,\n",
       "        -0.0971515 ],\n",
       "       [ 0.4286812 , -0.4512894 , -0.5968856 , -1.61502532, -1.0995777 ,\n",
       "         1.70563607, -0.91095835,  0.81164146, -1.76089707,  0.06723462,\n",
       "         0.14742447,  0.20980031, -1.27590555, -0.32091429, -0.00861653,\n",
       "        -1.26296953],\n",
       "       [-0.76562578, -0.4512894 , -0.3654886 ,  0.18361077,  0.06811543,\n",
       "         0.10760103, -0.59007283,  0.60579036,  0.15602885, -0.65212876,\n",
       "        -0.46160778, -0.48455658, -0.90785587,  0.1728    ,  2.18859821,\n",
       "         0.04857575],\n",
       "       [ 1.03448909,  1.78591286,  1.62808558,  1.08292881,  0.16542319,\n",
       "        -0.08416318,  0.15866006, -0.98220379, -0.55724591,  0.91354447,\n",
       "         0.84346133,  0.79216414, -0.17175652, -0.32091429, -0.39636031,\n",
       "         0.194303  ],\n",
       "       [ 1.08641548, -0.07601676,  0.2753031 ,  0.23981814,  0.06811543,\n",
       "         0.26740453,  0.6043344 , -0.14899698,  0.78014427,  0.63144119,\n",
       "         0.64045058,  0.63537388,  0.56434284, -0.56777144,  0.24987932,\n",
       "         1.79730279],\n",
       "       [ 0.70562195, -0.82656204, -0.72148399,  0.18361077, -0.51573113,\n",
       "         2.12112518,  0.30127585,  1.40958987,  1.67173773, -0.99065271,\n",
       "        -0.92563235, -0.86533293,  0.56434284,  0.41965715, -0.52560823,\n",
       "        -0.68006051],\n",
       "       [-0.47137623, -1.43277168, -1.29107662, -1.78364745, -1.00226994,\n",
       "         0.39524733, -0.6078998 , -0.96259892, -1.40425969, -0.18665834,\n",
       "        -0.08458781, -0.03658439, -0.5398062 ,  0.1728    ,  0.37912725,\n",
       "        -0.0971515 ],\n",
       "       [-0.55792022,  0.40029081, -0.43668768, -0.71570727, -0.90496218,\n",
       "         1.09838275,  0.15866006,  0.86065362, -0.64640525,  0.53270504,\n",
       "         0.59694828,  0.45618501,  0.93239252,  0.1728    ,  0.24987932,\n",
       "        -0.02428788],\n",
       "       [ 0.09981406,  1.20857034,  0.02610633,  0.12740339,  1.43042408,\n",
       "        -0.56357369,  0.10517914, -1.26647435, -0.2451882 ,  0.57502053,\n",
       "         0.40843829,  0.41138779,  0.56434284,  0.91337145, -1.94733542,\n",
       "         2.30734817],\n",
       "       [-0.71369939, -0.46572296, -0.31208929,  0.74568454,  0.74926976,\n",
       "        -0.85122   ,  0.65781532,  0.18428574, -0.64640525, -2.30243298,\n",
       "        -2.28870452, -2.2764453 , -0.90785587,  0.91337145,  2.44709406,\n",
       "         0.12143938],\n",
       "       [ 0.15174045,  1.65601079,  1.04069319,  0.97051405, -0.41842337,\n",
       "        -0.7553379 , -0.14439849,  0.72341956,  0.64640525, -1.30096632,\n",
       "        -1.50566306, -1.67168286, -1.27590555,  0.41965715,  1.41311066,\n",
       "         2.01589367],\n",
       "       [ 0.01327008, -0.36468802, -1.11307892, -0.1536335 , -0.12650009,\n",
       "         0.23544383,  1.74526071,  2.64469643,  0.51266624, -1.13170435,\n",
       "        -1.30265231, -1.33570372,  0.93239252,  2.39451435,  0.6376231 ,\n",
       "         1.21439378],\n",
       "       [-0.57522902, -0.52345722, -0.45448745, -0.04121874,  0.26273095,\n",
       "        -0.59553439, -1.01792019,  0.4979636 ,  0.02228984,  0.68786185,\n",
       "         0.66945211,  0.72496831, -0.90785587, -1.06148574, -0.39636031,\n",
       "         1.57871191],\n",
       "       [-0.83486097,  0.78999701, -0.38328837, -0.99674416, -0.41842337,\n",
       "         0.10760103,  0.47954559,  0.06665654,  2.25127347,  0.92764964,\n",
       "         0.93046594,  0.83696136, -0.5398062 , -0.81462859, -1.04259994,\n",
       "        -0.31574238],\n",
       "       [-0.0905827 ,  0.15492024, -0.93508123,  1.13913619, -1.39150098,\n",
       "         0.42720803,  0.3369298 ,  0.4097417 , -1.44883936, -1.06117853,\n",
       "        -1.14314386, -1.17891346, -0.90785587,  0.6665143 ,  0.89611895,\n",
       "        -0.46146963],\n",
       "       [ 0.25559323, -1.27400249, -0.72148399, -0.54708514, -1.78073202,\n",
       "         0.42720803,  1.24610545,  0.93907309, -1.18136133, -0.75086491,\n",
       "        -0.85312851, -0.75333989,  0.19629316,  0.41965715, -0.26711238,\n",
       "        -0.31574238],\n",
       "       [-1.30219848, -0.76882779,  0.29310287, -2.17709909,  0.84657752,\n",
       "        -1.39455191, -1.67751821, -0.96259892,  1.27052067, -0.14434285,\n",
       "         0.03141833,  0.14260448, -1.27590555,  0.1728    , -1.04259994,\n",
       "        -1.26296953],\n",
       "       [-1.99455036, -1.38947099, -0.75708353, -1.33398843, -1.29419322,\n",
       "        -2.03376593,  0.03387125, -1.38410355, -0.64640525,  1.01228062,\n",
       "         0.9014644 ,  1.01615023, -0.17175652, -0.32091429,  0.1206314 ,\n",
       "        -0.31574238],\n",
       "       [-1.07718413,  0.18378737, -0.52568653, -0.1536335 ,  0.55465424,\n",
       "        -1.07494491, -1.46359453,  0.25290277,  0.20060853,  1.70343367,\n",
       "         1.64100356,  1.64331129, -0.90785587, -1.06148574, -1.04259994,\n",
       "         1.65157553],\n",
       "       [-0.36752345, -1.8946457 , -1.02408007, -0.6594999 , -0.51573113,\n",
       "         0.74681504,  1.67395282,  0.09606384, -1.09220198, -1.31507148,\n",
       "        -1.20114693, -1.15651485,  0.93239252,  2.39451435,  0.50837518,\n",
       "        -1.40869678],\n",
       "       [ 0.13443166,  0.70339563,  1.46788766,  0.74568454,  0.74926976,\n",
       "        -0.8831807 , -0.21570638, -0.87437703,  0.42350689, -0.86370623,\n",
       "        -0.56311315, -0.52935379,  1.3004422 ,  1.6539429 , -0.26711238,\n",
       "        -1.1901059 ],\n",
       "       [ 0.54984278,  1.91581492,  1.61028582,  0.80189192,  1.6250396 ,\n",
       "        -0.30788808,  0.37258375,  0.62539523,  2.16211413,  0.3493379 ,\n",
       "         0.33593445,  0.1874017 , -0.90785587,  0.1728    ,  0.1206314 ,\n",
       "        -0.60719689],\n",
       "       [-0.661773  , -0.85542916, -1.415675  , -0.82812203,  0.45734648,\n",
       "        -0.49965229, -0.76834256,  0.77243172, -0.06686951,  0.60323086,\n",
       "         0.27793138,  0.29939474, -0.90785587, -1.30834289, -0.26711238,\n",
       "        -0.17001513],\n",
       "       [ 0.84409233,  0.80443057,  1.34328927, -0.04121874,  1.72234737,\n",
       "         0.71485434, -1.44576756,  0.34112467,  0.60182558,  2.19711442,\n",
       "         2.36604195,  2.42726261,  0.19629316, -1.80205719, -0.91335201,\n",
       "         0.04857575]])"
      ]
     },
     "execution_count": 41,
     "metadata": {},
     "output_type": "execute_result"
    }
   ],
   "source": [
    "from sklearn.preprocessing import StandardScaler\n",
    "sc=StandardScaler()\n",
    "x=sc.fit_transform(X)\n",
    "x"
   ]
  },
  {
   "cell_type": "code",
   "execution_count": null,
   "metadata": {},
   "outputs": [],
   "source": []
  },
  {
   "cell_type": "markdown",
   "metadata": {},
   "source": [
    "## We see that outcome  data is continous so we have use linear regressor methods and apply clustering method also"
   ]
  },
  {
   "cell_type": "code",
   "execution_count": 42,
   "metadata": {},
   "outputs": [
    {
     "name": "stdout",
     "output_type": "stream",
     "text": [
      "{2: [0.18748860433845443], 3: [0.19358316219334482], 4: [0.20541223414847937], 5: [0.1503939479765748], 6: [0.16921655482606118], 7: [0.179008891085763], 8: [0.19225650677734948], 9: [0.1863303779313355], 10: [0.16293043962945603]}\n"
     ]
    }
   ],
   "source": [
    "# Import necessary modules from `sklearn` \n",
    "from sklearn.cluster import KMeans\n",
    "from sklearn import metrics\n",
    "\n",
    "# Create silhouette score dictionary\n",
    "s_score_dict = {}\n",
    "for i in range(2,11):\n",
    "    km = KMeans(n_clusters=i, random_state=1)\n",
    "    l = km.fit_predict(X)\n",
    "    s_s = metrics.silhouette_score(X, l)\n",
    "    s_score_dict[i] = [s_s]\n",
    "\n",
    "# Print out `s_score_dict`\n",
    "print(s_score_dict)"
   ]
  },
  {
   "cell_type": "code",
   "execution_count": 43,
   "metadata": {},
   "outputs": [
    {
     "data": {
      "image/png": "[encoded data removed]",
      "text/plain": [
       "<Figure size 432x288 with 1 Axes>"
      ]
     },
     "metadata": {
      "needs_background": "light"
     },
     "output_type": "display_data"
    }
   ],
   "source": [
    "kmeans_model = KMeans(n_clusters=7, random_state=1)\n",
    "distances = kmeans_model.fit_transform(X)\n",
    "\n",
    "# Create scatter plot using labels from K-means model as color\n",
    "labels = kmeans_model.labels_\n",
    "\n",
    "plt.scatter(distances[:,0], distances[:,1], c=labels)\n",
    "plt.title('Kmeans Clusters')\n",
    "\n",
    "plt.show()"
   ]
  },
  {
   "cell_type": "code",
   "execution_count": 44,
   "metadata": {},
   "outputs": [
    {
     "name": "stdout",
     "output_type": "stream",
     "text": [
      "3.5466663575812003\n"
     ]
    }
   ],
   "source": [
    "# Import `LinearRegression` from `sklearn.linear_model`\n",
    "from sklearn.linear_model import LinearRegression\n",
    "from sklearn.model_selection import train_test_split\n",
    "# Import `mean_absolute_error` from `sklearn.metrics`\n",
    "from sklearn.metrics import mean_absolute_error\n",
    "\n",
    "# Create Linear Regression model, fit model, and make predictions\n",
    "lr = LinearRegression(normalize=True)\n",
    "x_train,x_test,y_train,y_test=train_test_split(x,y,test_size=0.25,random_state=105)\n",
    "lr.fit(x_train, y_train)\n",
    "predictions = lr.predict(x_test)\n",
    "\n",
    "# Determine mean absolute error\n",
    "mae = mean_absolute_error(y_test, predictions)\n",
    "\n",
    "# Print `mae`\n",
    "print(mae)"
   ]
  },
  {
   "cell_type": "code",
   "execution_count": 45,
   "metadata": {},
   "outputs": [
    {
     "data": {
      "text/plain": [
       "'\\nprint(f\"At random state,the training accuracy is:-{r2_score(y_train,pred_train)*100}\")\\nprint(f\"At random state,the testing accuracy is:-{r2_score(y_test,prediction)*100}\")'"
      ]
     },
     "execution_count": 45,
     "metadata": {},
     "output_type": "execute_result"
    }
   ],
   "source": [
    "\"\"\"\n",
    "print(f\"At random state,the training accuracy is:-{r2_score(y_train,pred_train)*100}\")\n",
    "print(f\"At random state,the testing accuracy is:-{r2_score(y_test,prediction)*100}\")\"\"\""
   ]
  },
  {
   "cell_type": "code",
   "execution_count": 46,
   "metadata": {},
   "outputs": [
    {
     "name": "stdout",
     "output_type": "stream",
     "text": [
      "4.557055623872142\n"
     ]
    }
   ],
   "source": [
    "# Import `RidgeCV` from `sklearn.linear_model`\n",
    "from sklearn.linear_model import RidgeCV\n",
    "\n",
    "# Create Ridge Linear Regression model, fit model, and make predictions\n",
    "rrm = RidgeCV(alphas=(0.01, 0.1, 1.0, 10.0), normalize=True)\n",
    "rrm.fit(x_train, y_train)\n",
    "predictions_rrm = rrm.predict(x_test)\n",
    "\n",
    "# Determine mean absolute error\n",
    "mae_rrm = mean_absolute_error(y_test, predictions_rrm)\n",
    "print(mae_rrm)"
   ]
  },
  {
   "cell_type": "code",
   "execution_count": 47,
   "metadata": {},
   "outputs": [
    {
     "name": "stdout",
     "output_type": "stream",
     "text": [
      "At random state 0,the training accuracy is:-0.9609590618835543\n",
      "At random state 0,the testing accuracy is:-0.6629341689506518\n",
      "\n",
      "\n",
      "At random state 1,the training accuracy is:-0.9715846357165404\n",
      "At random state 1,the testing accuracy is:-0.3841724690075715\n",
      "\n",
      "\n",
      "At random state 2,the training accuracy is:-0.9898192153844542\n",
      "At random state 2,the testing accuracy is:--2.0819989550104157\n",
      "\n",
      "\n",
      "At random state 3,the training accuracy is:-0.9722553885185529\n",
      "At random state 3,the testing accuracy is:-0.46183789706024925\n",
      "\n",
      "\n",
      "At random state 4,the training accuracy is:-0.9647461497996579\n",
      "At random state 4,the testing accuracy is:-0.466068529272773\n",
      "\n",
      "\n",
      "At random state 5,the training accuracy is:-0.9503092887369992\n",
      "At random state 5,the testing accuracy is:-0.7517105066858143\n",
      "\n",
      "\n",
      "At random state 6,the training accuracy is:-0.9489470045214469\n",
      "At random state 6,the testing accuracy is:-0.8376419521868446\n",
      "\n",
      "\n",
      "At random state 7,the training accuracy is:-0.9631978535911322\n",
      "At random state 7,the testing accuracy is:--0.2554769415888418\n",
      "\n",
      "\n",
      "At random state 8,the training accuracy is:-0.9623956064118223\n",
      "At random state 8,the testing accuracy is:-0.5868676500008763\n",
      "\n",
      "\n",
      "At random state 9,the training accuracy is:-0.9558190206474733\n",
      "At random state 9,the testing accuracy is:-0.7290448155516275\n",
      "\n",
      "\n",
      "At random state 10,the training accuracy is:-0.965838048823881\n",
      "At random state 10,the testing accuracy is:--0.2279712919949899\n",
      "\n",
      "\n",
      "At random state 11,the training accuracy is:-0.9794801537272683\n",
      "At random state 11,the testing accuracy is:-0.24817597656146817\n",
      "\n",
      "\n",
      "At random state 12,the training accuracy is:-0.9737413001008607\n",
      "At random state 12,the testing accuracy is:--1.1916550064201443\n",
      "\n",
      "\n",
      "At random state 13,the training accuracy is:-0.9750450815078384\n",
      "At random state 13,the testing accuracy is:-0.6767079843344604\n",
      "\n",
      "\n",
      "At random state 14,the training accuracy is:-0.9469984720280225\n",
      "At random state 14,the testing accuracy is:-0.7947948235207244\n",
      "\n",
      "\n",
      "At random state 15,the training accuracy is:-0.970942094140768\n",
      "At random state 15,the testing accuracy is:-0.08782646885309342\n",
      "\n",
      "\n",
      "At random state 16,the training accuracy is:-0.9858809375178786\n",
      "At random state 16,the testing accuracy is:-0.21566361427485636\n",
      "\n",
      "\n",
      "At random state 17,the training accuracy is:-0.9749884441968528\n",
      "At random state 17,the testing accuracy is:-0.2429837566512587\n",
      "\n",
      "\n",
      "At random state 18,the training accuracy is:-0.9619051538791021\n",
      "At random state 18,the testing accuracy is:-0.4469271301986393\n",
      "\n",
      "\n",
      "At random state 19,the training accuracy is:-0.9495167250254275\n",
      "At random state 19,the testing accuracy is:-0.8381134193356263\n",
      "\n",
      "\n",
      "At random state 20,the training accuracy is:-0.9648282100620998\n",
      "At random state 20,the testing accuracy is:-0.30103553183443144\n",
      "\n",
      "\n",
      "At random state 21,the training accuracy is:-0.9632922835126105\n",
      "At random state 21,the testing accuracy is:-0.4374849730662843\n",
      "\n",
      "\n",
      "At random state 22,the training accuracy is:-0.9538756336575567\n",
      "At random state 22,the testing accuracy is:--0.022968263180361603\n",
      "\n",
      "\n",
      "At random state 23,the training accuracy is:-0.9614513761755267\n",
      "At random state 23,the testing accuracy is:-0.5703263346962961\n",
      "\n",
      "\n",
      "At random state 24,the training accuracy is:-0.9930550857101428\n",
      "At random state 24,the testing accuracy is:--3.928138688717569\n",
      "\n",
      "\n",
      "At random state 25,the training accuracy is:-0.9579610563737944\n",
      "At random state 25,the testing accuracy is:-0.4181713062412794\n",
      "\n",
      "\n",
      "At random state 26,the training accuracy is:-0.9658277445021989\n",
      "At random state 26,the testing accuracy is:-0.32413360865120655\n",
      "\n",
      "\n",
      "At random state 27,the training accuracy is:-0.95527404213321\n",
      "At random state 27,the testing accuracy is:-0.6767959850140872\n",
      "\n",
      "\n",
      "At random state 28,the training accuracy is:-0.9597644213445621\n",
      "At random state 28,the testing accuracy is:-0.6699377101719022\n",
      "\n",
      "\n",
      "At random state 29,the training accuracy is:-0.9511213168423278\n",
      "At random state 29,the testing accuracy is:-0.8790507229533016\n",
      "\n",
      "\n",
      "At random state 30,the training accuracy is:-0.9494811939208995\n",
      "At random state 30,the testing accuracy is:-0.8365092739163211\n",
      "\n",
      "\n",
      "At random state 31,the training accuracy is:-0.9951572148896561\n",
      "At random state 31,the testing accuracy is:-0.2592083827635113\n",
      "\n",
      "\n",
      "At random state 32,the training accuracy is:-0.9631618129568902\n",
      "At random state 32,the testing accuracy is:-0.24486497945423513\n",
      "\n",
      "\n",
      "At random state 33,the training accuracy is:-0.9828979279570369\n",
      "At random state 33,the testing accuracy is:-0.7251644237527045\n",
      "\n",
      "\n",
      "At random state 34,the training accuracy is:-0.9721607076503063\n",
      "At random state 34,the testing accuracy is:-0.7974272428667492\n",
      "\n",
      "\n",
      "At random state 35,the training accuracy is:-0.9800685115224866\n",
      "At random state 35,the testing accuracy is:-0.18097976995388876\n",
      "\n",
      "\n",
      "At random state 36,the training accuracy is:-0.9577869158330774\n",
      "At random state 36,the testing accuracy is:-0.7342034319837663\n",
      "\n",
      "\n",
      "At random state 37,the training accuracy is:-0.9564708376178137\n",
      "At random state 37,the testing accuracy is:-0.592413814912378\n",
      "\n",
      "\n",
      "At random state 38,the training accuracy is:-0.9684911861559722\n",
      "At random state 38,the testing accuracy is:-0.23284767333797207\n",
      "\n",
      "\n",
      "At random state 39,the training accuracy is:-0.9531716157253375\n",
      "At random state 39,the testing accuracy is:-0.8073613092401335\n",
      "\n",
      "\n",
      "At random state 40,the training accuracy is:-0.9693187478384306\n",
      "At random state 40,the testing accuracy is:-0.45805077232054625\n",
      "\n",
      "\n",
      "At random state 41,the training accuracy is:-0.958621898229464\n",
      "At random state 41,the testing accuracy is:-0.7343696065236319\n",
      "\n",
      "\n",
      "At random state 42,the training accuracy is:-0.974042638444853\n",
      "At random state 42,the testing accuracy is:-0.7876400316149381\n",
      "\n",
      "\n",
      "At random state 43,the training accuracy is:-0.9881881791911085\n",
      "At random state 43,the testing accuracy is:--1.0543428896603468\n",
      "\n",
      "\n",
      "At random state 44,the training accuracy is:-0.956729690441344\n",
      "At random state 44,the testing accuracy is:-0.5894992447123879\n",
      "\n",
      "\n",
      "At random state 45,the training accuracy is:-0.9549549017905323\n",
      "At random state 45,the testing accuracy is:-0.6385651240924869\n",
      "\n",
      "\n",
      "At random state 46,the training accuracy is:-0.9627441089213998\n",
      "At random state 46,the testing accuracy is:-0.6261439472974559\n",
      "\n",
      "\n",
      "At random state 47,the training accuracy is:-0.9572737663157228\n",
      "At random state 47,the testing accuracy is:-0.8116559418363338\n",
      "\n",
      "\n",
      "At random state 48,the training accuracy is:-0.9460990720082068\n",
      "At random state 48,the testing accuracy is:-0.8234694071796698\n",
      "\n",
      "\n",
      "At random state 49,the training accuracy is:-0.9871259881150014\n",
      "At random state 49,the testing accuracy is:--0.07399772649652925\n",
      "\n",
      "\n",
      "At random state 50,the training accuracy is:-0.9823137618455436\n",
      "At random state 50,the testing accuracy is:-0.6111709711670297\n",
      "\n",
      "\n",
      "At random state 51,the training accuracy is:-0.9786247301654905\n",
      "At random state 51,the testing accuracy is:-0.45827451765865845\n",
      "\n",
      "\n",
      "At random state 52,the training accuracy is:-0.9772088150616494\n",
      "At random state 52,the testing accuracy is:-0.5097793692109415\n",
      "\n",
      "\n",
      "At random state 53,the training accuracy is:-0.985405526163347\n",
      "At random state 53,the testing accuracy is:-0.2550058206707251\n",
      "\n",
      "\n",
      "At random state 54,the training accuracy is:-0.9639045549917284\n",
      "At random state 54,the testing accuracy is:-0.7551746347340775\n",
      "\n",
      "\n",
      "At random state 55,the training accuracy is:-0.9548931781151018\n",
      "At random state 55,the testing accuracy is:-0.7860903369149639\n",
      "\n",
      "\n",
      "At random state 56,the training accuracy is:-0.9599022648384213\n",
      "At random state 56,the testing accuracy is:-0.6079899644109719\n",
      "\n",
      "\n",
      "At random state 57,the training accuracy is:-0.9773161013476727\n",
      "At random state 57,the testing accuracy is:--0.797927174371454\n",
      "\n",
      "\n",
      "At random state 58,the training accuracy is:-0.9554433249805968\n",
      "At random state 58,the testing accuracy is:-0.41049923062099125\n",
      "\n",
      "\n",
      "At random state 59,the training accuracy is:-0.9860359788865672\n",
      "At random state 59,the testing accuracy is:-0.00801945757593514\n",
      "\n",
      "\n",
      "At random state 60,the training accuracy is:-0.9870382905760344\n",
      "At random state 60,the testing accuracy is:--0.4118797728694634\n",
      "\n",
      "\n",
      "At random state 61,the training accuracy is:-0.9852781686735402\n",
      "At random state 61,the testing accuracy is:--0.11594360026658301\n",
      "\n",
      "\n",
      "At random state 62,the training accuracy is:-0.9561041370877837\n",
      "At random state 62,the testing accuracy is:-0.6185871131833556\n",
      "\n",
      "\n",
      "At random state 63,the training accuracy is:-0.9579361117394376\n",
      "At random state 63,the testing accuracy is:-0.5576984549179234\n",
      "\n",
      "\n",
      "At random state 64,the training accuracy is:-0.9560367093903082\n",
      "At random state 64,the testing accuracy is:-0.6352725305739695\n",
      "\n",
      "\n",
      "At random state 65,the training accuracy is:-0.9525149014820988\n",
      "At random state 65,the testing accuracy is:-0.7247598156620829\n",
      "\n",
      "\n",
      "At random state 66,the training accuracy is:-0.9899795721247048\n",
      "At random state 66,the testing accuracy is:-0.17191346624768855\n",
      "\n",
      "\n",
      "At random state 67,the training accuracy is:-0.9489471263761321\n",
      "At random state 67,the testing accuracy is:-0.8087753828913771\n",
      "\n",
      "\n",
      "At random state 68,the training accuracy is:-0.9433712692742349\n",
      "At random state 68,the testing accuracy is:-0.8732463116865856\n",
      "\n",
      "\n",
      "At random state 69,the training accuracy is:-0.9584500267196248\n",
      "At random state 69,the testing accuracy is:-0.5242852201258407\n",
      "\n",
      "\n",
      "At random state 70,the training accuracy is:-0.9669105523499831\n",
      "At random state 70,the testing accuracy is:--0.1935077561101488\n",
      "\n",
      "\n",
      "At random state 71,the training accuracy is:-0.96469155628748\n",
      "At random state 71,the testing accuracy is:-0.3790991443798012\n",
      "\n",
      "\n",
      "At random state 72,the training accuracy is:-0.9584656462802367\n",
      "At random state 72,the testing accuracy is:-0.7102012570894036\n",
      "\n",
      "\n",
      "At random state 73,the training accuracy is:-0.9669581454532015\n",
      "At random state 73,the testing accuracy is:-0.726132454460409\n",
      "\n",
      "\n",
      "At random state 74,the training accuracy is:-0.9824485230030251\n",
      "At random state 74,the testing accuracy is:--2.006452499229119\n",
      "\n",
      "\n"
     ]
    },
    {
     "name": "stdout",
     "output_type": "stream",
     "text": [
      "At random state 75,the training accuracy is:-0.9619107292032067\n",
      "At random state 75,the testing accuracy is:-0.3197089913026767\n",
      "\n",
      "\n",
      "At random state 76,the training accuracy is:-0.9823020250956476\n",
      "At random state 76,the testing accuracy is:--0.5350831359882855\n",
      "\n",
      "\n",
      "At random state 77,the training accuracy is:-0.9852345925877509\n",
      "At random state 77,the testing accuracy is:--0.3919915994034102\n",
      "\n",
      "\n",
      "At random state 78,the training accuracy is:-0.9617795239455275\n",
      "At random state 78,the testing accuracy is:-0.39264201587647174\n",
      "\n",
      "\n",
      "At random state 79,the training accuracy is:-0.9746721228360481\n",
      "At random state 79,the testing accuracy is:-0.25891280632902725\n",
      "\n",
      "\n",
      "At random state 80,the training accuracy is:-0.9815940714701809\n",
      "At random state 80,the testing accuracy is:--1.3881438676976723\n",
      "\n",
      "\n",
      "At random state 81,the training accuracy is:-0.9671418744471724\n",
      "At random state 81,the testing accuracy is:--3.8324951921838055\n",
      "\n",
      "\n",
      "At random state 82,the training accuracy is:-0.9792528357720716\n",
      "At random state 82,the testing accuracy is:-0.7619024479455524\n",
      "\n",
      "\n",
      "At random state 83,the training accuracy is:-0.9538482413124929\n",
      "At random state 83,the testing accuracy is:-0.847939357519641\n",
      "\n",
      "\n",
      "At random state 84,the training accuracy is:-0.9539493161516893\n",
      "At random state 84,the testing accuracy is:-0.7098512965463304\n",
      "\n",
      "\n",
      "At random state 85,the training accuracy is:-0.9526629781970175\n",
      "At random state 85,the testing accuracy is:-0.8407963276845573\n",
      "\n",
      "\n",
      "At random state 86,the training accuracy is:-0.9543878085444036\n",
      "At random state 86,the testing accuracy is:-0.7404936612670707\n",
      "\n",
      "\n",
      "At random state 87,the training accuracy is:-0.9631177788804777\n",
      "At random state 87,the testing accuracy is:-0.3095696288137699\n",
      "\n",
      "\n",
      "At random state 88,the training accuracy is:-0.9774273263600963\n",
      "At random state 88,the testing accuracy is:--4.229901909248937\n",
      "\n",
      "\n",
      "At random state 89,the training accuracy is:-0.9722162780072605\n",
      "At random state 89,the testing accuracy is:--0.779814482533461\n",
      "\n",
      "\n",
      "At random state 90,the training accuracy is:-0.9530090276344044\n",
      "At random state 90,the testing accuracy is:-0.8300294405682683\n",
      "\n",
      "\n",
      "At random state 91,the training accuracy is:-0.9535273897994728\n",
      "At random state 91,the testing accuracy is:-0.6922110717277764\n",
      "\n",
      "\n",
      "At random state 92,the training accuracy is:-0.9650375090233065\n",
      "At random state 92,the testing accuracy is:-0.5943186016078817\n",
      "\n",
      "\n",
      "At random state 93,the training accuracy is:-0.9667903742911994\n",
      "At random state 93,the testing accuracy is:-0.4203580279447384\n",
      "\n",
      "\n",
      "At random state 94,the training accuracy is:-0.9714128770121186\n",
      "At random state 94,the testing accuracy is:--0.8652265962508696\n",
      "\n",
      "\n",
      "At random state 95,the training accuracy is:-0.9570916052259714\n",
      "At random state 95,the testing accuracy is:-0.5065497917815449\n",
      "\n",
      "\n",
      "At random state 96,the training accuracy is:-0.9664588096020404\n",
      "At random state 96,the testing accuracy is:-0.13466114454257394\n",
      "\n",
      "\n",
      "At random state 97,the training accuracy is:-0.949458968097837\n",
      "At random state 97,the testing accuracy is:-0.8340143915795829\n",
      "\n",
      "\n",
      "At random state 98,the training accuracy is:-0.9856174713033907\n",
      "At random state 98,the testing accuracy is:-0.5691793123627686\n",
      "\n",
      "\n",
      "At random state 99,the training accuracy is:-0.9531948414942486\n",
      "At random state 99,the testing accuracy is:-0.8804448045510337\n",
      "\n",
      "\n"
     ]
    }
   ],
   "source": [
    "for i in range(0,100):\n",
    "    feature_train,feature_test,target_train,target_test=train_test_split(x,y,test_size=0.2,random_state=i)\n",
    "    lr.fit(feature_train,target_train)\n",
    "    pred_train=lr.predict(feature_train)\n",
    "    pred_test=lr.predict(feature_test)\n",
    "    print(f\"At random state {i},the training accuracy is:-{r2_score(target_train,pred_train)}\")\n",
    "    print(f\"At random state {i},the testing accuracy is:-{r2_score(target_test,pred_test)}\")\n",
    "    print(\"\\n\")"
   ]
  },
  {
   "cell_type": "code",
   "execution_count": 48,
   "metadata": {},
   "outputs": [],
   "source": [
    "feature_train,feature_test,target_train,target_test=train_test_split(x,y,test_size=0.2,random_state=99)"
   ]
  },
  {
   "cell_type": "code",
   "execution_count": 49,
   "metadata": {},
   "outputs": [
    {
     "data": {
      "text/plain": [
       "LinearRegression(normalize=True)"
      ]
     },
     "execution_count": 49,
     "metadata": {},
     "output_type": "execute_result"
    }
   ],
   "source": [
    "lr.fit(feature_train,target_train)"
   ]
  },
  {
   "cell_type": "code",
   "execution_count": 50,
   "metadata": {},
   "outputs": [],
   "source": [
    "pred_test=lr.predict(feature_test)"
   ]
  },
  {
   "cell_type": "code",
   "execution_count": 51,
   "metadata": {},
   "outputs": [
    {
     "name": "stdout",
     "output_type": "stream",
     "text": [
      "0.8804448045510337\n"
     ]
    }
   ],
   "source": [
    "print(r2_score(target_test,pred_test))"
   ]
  },
  {
   "cell_type": "markdown",
   "metadata": {},
   "source": [
    "## Cross Validation score"
   ]
  },
  {
   "cell_type": "code",
   "execution_count": 52,
   "metadata": {
    "scrolled": true
   },
   "outputs": [
    {
     "name": "stdout",
     "output_type": "stream",
     "text": [
      "At cross fold 2 the cv score is -1.2523494928864405 and accuracy score for traing is 0.9531948414942486 and accuracy for test is 0.8804448045510337\n",
      "\n",
      "\n",
      "At cross fold 3 the cv score is 0.22588460167737323 and accuracy score for traing is 0.9531948414942486 and accuracy for test is 0.8804448045510337\n",
      "\n",
      "\n",
      "At cross fold 4 the cv score is 0.24952166654368535 and accuracy score for traing is 0.9531948414942486 and accuracy for test is 0.8804448045510337\n",
      "\n",
      "\n",
      "At cross fold 5 the cv score is 0.04075540667455626 and accuracy score for traing is 0.9531948414942486 and accuracy for test is 0.8804448045510337\n",
      "\n",
      "\n",
      "At cross fold 6 the cv score is 0.251535309371869 and accuracy score for traing is 0.9531948414942486 and accuracy for test is 0.8804448045510337\n",
      "\n",
      "\n",
      "At cross fold 7 the cv score is 0.3890804644289516 and accuracy score for traing is 0.9531948414942486 and accuracy for test is 0.8804448045510337\n",
      "\n",
      "\n",
      "At cross fold 8 the cv score is 0.3193702210966707 and accuracy score for traing is 0.9531948414942486 and accuracy for test is 0.8804448045510337\n",
      "\n",
      "\n",
      "At cross fold 9 the cv score is -4.809084120395554 and accuracy score for traing is 0.9531948414942486 and accuracy for test is 0.8804448045510337\n",
      "\n",
      "\n"
     ]
    }
   ],
   "source": [
    "Train_accuracy=r2_score(target_train,pred_train)\n",
    "Test_accuracy=r2_score(target_test,pred_test)\n",
    "\n",
    "from sklearn.model_selection import cross_val_score\n",
    "for j in range(2,10):\n",
    "    cv_score=cross_val_score(lr,x,y,cv=j)\n",
    "    cv_mean=cv_score.mean()\n",
    "    print(f\"At cross fold {j} the cv score is {cv_mean} and accuracy score for traing is {Train_accuracy} and accuracy for test is {Test_accuracy}\")\n",
    "    print(\"\\n\")"
   ]
  },
  {
   "cell_type": "code",
   "execution_count": 53,
   "metadata": {},
   "outputs": [
    {
     "data": {
      "image/png": "[encoded data removed]",
      "text/plain": [
       "<Figure size 576x432 with 1 Axes>"
      ]
     },
     "metadata": {
      "needs_background": "light"
     },
     "output_type": "display_data"
    }
   ],
   "source": [
    "plt.figure(figsize=(8,6))\n",
    "plt.scatter(x=target_test,y=pred_test,color='r')\n",
    "plt.plot(target_test,target_test,color='b')\n",
    "plt.xlabel('Actual charges',fontsize=14)\n",
    "plt.ylabel('Predicted charges',fontsize=14)\n",
    "plt.title('Linear Regression',fontsize=14)\n",
    "plt.show()"
   ]
  },
  {
   "cell_type": "markdown",
   "metadata": {},
   "source": [
    "# GridSearchCV"
   ]
  },
  {
   "cell_type": "code",
   "execution_count": 54,
   "metadata": {},
   "outputs": [],
   "source": [
    "from sklearn.model_selection import GridSearchCV\n",
    "from sklearn.model_selection import cross_val_score"
   ]
  },
  {
   "cell_type": "code",
   "execution_count": null,
   "metadata": {},
   "outputs": [],
   "source": []
  },
  {
   "cell_type": "code",
   "execution_count": 55,
   "metadata": {},
   "outputs": [
    {
     "name": "stdout",
     "output_type": "stream",
     "text": [
      "{'alpha': 1.1, 'random_state': 0}\n"
     ]
    }
   ],
   "source": [
    "from sklearn.linear_model import Lasso\n",
    "\n",
    "parameters={'alpha':[.0001,.001,.01,.1,1.10],'random_state':list(range(0,10))}\n",
    "ls=Lasso()\n",
    "clf=GridSearchCV(ls,parameters)\n",
    "clf.fit(feature_train,target_train)\n",
    "\n",
    "print(clf.best_params_)"
   ]
  },
  {
   "cell_type": "code",
   "execution_count": 56,
   "metadata": {},
   "outputs": [
    {
     "data": {
      "text/plain": [
       "0.9173025131988598"
      ]
     },
     "execution_count": 56,
     "metadata": {},
     "output_type": "execute_result"
    }
   ],
   "source": [
    "ls=Lasso(alpha=1.1,random_state=0)\n",
    "ls.fit(feature_train,target_train)\n",
    "ls.score(feature_train,target_train)\n",
    "pred_ls=ls.predict(feature_test)\n",
    "\n",
    "lss=r2_score(target_test,pred_ls)\n",
    "lss"
   ]
  },
  {
   "cell_type": "code",
   "execution_count": 57,
   "metadata": {},
   "outputs": [
    {
     "data": {
      "text/plain": [
       "0.6101978772497649"
      ]
     },
     "execution_count": 57,
     "metadata": {},
     "output_type": "execute_result"
    }
   ],
   "source": [
    "cv_score=cross_val_score(ls,x,y,cv=8)\n",
    "cv_mean=cv_score.mean()\n",
    "cv_mean"
   ]
  },
  {
   "cell_type": "markdown",
   "metadata": {},
   "source": [
    "# Ensemble Technique"
   ]
  },
  {
   "cell_type": "code",
   "execution_count": 58,
   "metadata": {},
   "outputs": [
    {
     "name": "stdout",
     "output_type": "stream",
     "text": [
      "{'criterion': 'mae', 'max_features': 'log2'}\n"
     ]
    }
   ],
   "source": [
    "from sklearn.model_selection import GridSearchCV\n",
    "\n",
    "parameters={'criterion':['mse','mae'],'max_features':[\"auto\",\"sqrt\",\"log2\"]}\n",
    "rf=RandomForestRegressor()\n",
    "clf=GridSearchCV(rf,parameters)\n",
    "clf.fit(feature_train,target_train)\n",
    "\n",
    "print(clf.best_params_)"
   ]
  },
  {
   "cell_type": "code",
   "execution_count": 59,
   "metadata": {},
   "outputs": [
    {
     "name": "stdout",
     "output_type": "stream",
     "text": [
      "R2 Score: 71.14898093090017\n",
      "Cross Val Score: -26.838013796834918\n"
     ]
    }
   ],
   "source": [
    "rf=RandomForestRegressor(criterion=\"mse\",max_features=\"sqrt\")\n",
    "rf.fit(feature_train,target_train)\n",
    "pred_decision=rf.predict(feature_test)\n",
    "\n",
    "rfs=r2_score(target_test,pred_decision)\n",
    "print('R2 Score:',rfs*100)\n",
    "\n",
    "rfscore=cross_val_score(rf,x,y,cv=5)\n",
    "rfc=rfscore.mean()\n",
    "print('Cross Val Score:',rfc*100)"
   ]
  },
  {
   "cell_type": "markdown",
   "metadata": {},
   "source": [
    "# Model Saving"
   ]
  },
  {
   "cell_type": "code",
   "execution_count": 60,
   "metadata": {},
   "outputs": [],
   "source": [
    "import pickle\n",
    "filename='baseball.pkl'\n",
    "pickle.dump(ls,open(filename,'wb'))"
   ]
  },
  {
   "cell_type": "markdown",
   "metadata": {},
   "source": [
    "# Conclusion"
   ]
  },
  {
   "cell_type": "code",
   "execution_count": 61,
   "metadata": {},
   "outputs": [
    {
     "name": "stdout",
     "output_type": "stream",
     "text": [
      "0.9173025131988598\n"
     ]
    }
   ],
   "source": [
    "loaded_model=pickle.load(open('baseball.pkl','rb'))\n",
    "result=loaded_model.score(feature_test,target_test)\n",
    "print(result)"
   ]
  },
  {
   "cell_type": "code",
   "execution_count": 62,
   "metadata": {},
   "outputs": [],
   "source": [
    "conclusion=pd.DataFrame([loaded_model.predict(feature_test)[:],pred_decision[:]])"
   ]
  },
  {
   "cell_type": "code",
   "execution_count": 63,
   "metadata": {},
   "outputs": [
    {
     "data": {
      "text/html": [
       "<div>\n",
       "<style scoped>\n",
       "    .dataframe tbody tr th:only-of-type {\n",
       "        vertical-align: middle;\n",
       "    }\n",
       "\n",
       "    .dataframe tbody tr th {\n",
       "        vertical-align: top;\n",
       "    }\n",
       "\n",
       "    .dataframe thead th {\n",
       "        text-align: right;\n",
       "    }\n",
       "</style>\n",
       "<table border=\"1\" class=\"dataframe\">\n",
       "  <thead>\n",
       "    <tr style=\"text-align: right;\">\n",
       "      <th></th>\n",
       "      <th>0</th>\n",
       "      <th>1</th>\n",
       "    </tr>\n",
       "  </thead>\n",
       "  <tbody>\n",
       "    <tr>\n",
       "      <th>0</th>\n",
       "      <td>69.761319</td>\n",
       "      <td>74.77</td>\n",
       "    </tr>\n",
       "    <tr>\n",
       "      <th>1</th>\n",
       "      <td>65.612707</td>\n",
       "      <td>69.51</td>\n",
       "    </tr>\n",
       "    <tr>\n",
       "      <th>2</th>\n",
       "      <td>93.498400</td>\n",
       "      <td>88.26</td>\n",
       "    </tr>\n",
       "    <tr>\n",
       "      <th>3</th>\n",
       "      <td>80.743629</td>\n",
       "      <td>80.06</td>\n",
       "    </tr>\n",
       "    <tr>\n",
       "      <th>4</th>\n",
       "      <td>85.201720</td>\n",
       "      <td>86.53</td>\n",
       "    </tr>\n",
       "    <tr>\n",
       "      <th>5</th>\n",
       "      <td>82.088607</td>\n",
       "      <td>79.16</td>\n",
       "    </tr>\n",
       "  </tbody>\n",
       "</table>\n",
       "</div>"
      ],
      "text/plain": [
       "           0      1\n",
       "0  69.761319  74.77\n",
       "1  65.612707  69.51\n",
       "2  93.498400  88.26\n",
       "3  80.743629  80.06\n",
       "4  85.201720  86.53\n",
       "5  82.088607  79.16"
      ]
     },
     "execution_count": 63,
     "metadata": {},
     "output_type": "execute_result"
    }
   ],
   "source": [
    "conclusion.T"
   ]
  },
  {
   "cell_type": "code",
   "execution_count": null,
   "metadata": {},
   "outputs": [],
   "source": []
  }
 ],
 "metadata": {
  "kernelspec": {
   "display_name": "Python 3",
   "language": "python",
   "name": "python3"
  },
  "language_info": {
   "codemirror_mode": {
    "name": "ipython",
    "version": 3
   },
   "file_extension": ".py",
   "mimetype": "text/x-python",
   "name": "python",
   "nbconvert_exporter": "python",
   "pygments_lexer": "ipython3",
   "version": "3.8.5"
  }
 },
 "nbformat": 4,
 "nbformat_minor": 4
}
